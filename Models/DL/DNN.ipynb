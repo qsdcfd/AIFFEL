{
  "cells": [
    {
      "cell_type": "markdown",
      "id": "4ffc0fb5-5918-4ed2-8374-0c6513a267a2",
      "metadata": {
        "id": "4ffc0fb5-5918-4ed2-8374-0c6513a267a2"
      },
      "source": [
        "## Import"
      ]
    },
    {
      "cell_type": "code",
      "execution_count": null,
      "id": "dd23f502-45c6-43a5-92a2-c5b9735449ac",
      "metadata": {
        "id": "dd23f502-45c6-43a5-92a2-c5b9735449ac"
      },
      "outputs": [],
      "source": [
        "import random\n",
        "import pandas as pd\n",
        "import numpy as np\n",
        "import os\n",
        "import librosa\n",
        "\n",
        "from tqdm.auto import tqdm\n",
        "\n",
        "from sklearn.neural_network import MLPClassifier\n",
        "from sklearn.preprocessing import OneHotEncoder\n",
        "\n",
        "import warnings\n",
        "warnings.filterwarnings(action='ignore') "
      ]
    },
    {
      "cell_type": "code",
      "source": [
        "from google.colab import drive\n",
        "drive.mount('/content/drive')"
      ],
      "metadata": {
        "colab": {
          "base_uri": "https://localhost:8080/"
        },
        "id": "MvVBqbm4mWhz",
        "outputId": "ec22fe87-98b4-4926-d072-9ff7e13df52e"
      },
      "id": "MvVBqbm4mWhz",
      "execution_count": null,
      "outputs": [
        {
          "output_type": "stream",
          "name": "stdout",
          "text": [
            "Mounted at /content/drive\n"
          ]
        }
      ]
    },
    {
      "cell_type": "code",
      "source": [
        "base_path = '/content/drive/MyDrive/YDS/Dacon/Covid_19'"
      ],
      "metadata": {
        "id": "kSRPDMFPmY8e"
      },
      "id": "kSRPDMFPmY8e",
      "execution_count": null,
      "outputs": []
    },
    {
      "cell_type": "markdown",
      "id": "eaff0b9e-95cb-4172-8ee2-2bc6bc5c8afa",
      "metadata": {
        "id": "eaff0b9e-95cb-4172-8ee2-2bc6bc5c8afa"
      },
      "source": [
        "## Hyperparameter Setting"
      ]
    },
    {
      "cell_type": "code",
      "execution_count": null,
      "id": "17027eb2-ab83-450b-97d0-28dff9cb2731",
      "metadata": {
        "id": "17027eb2-ab83-450b-97d0-28dff9cb2731"
      },
      "outputs": [],
      "source": [
        "CFG = {\n",
        "    'SR':22050,\n",
        "    'N_MFCC':32, # MFCC 벡터를 추출할 개수\n",
        "    'SEED':42\n",
        "}"
      ]
    },
    {
      "cell_type": "markdown",
      "id": "1b8abaa4-229d-4ce9-a737-3263fc9c6213",
      "metadata": {
        "id": "1b8abaa4-229d-4ce9-a737-3263fc9c6213"
      },
      "source": [
        "## Fixed Random-Seed"
      ]
    },
    {
      "cell_type": "code",
      "execution_count": null,
      "id": "a89a75c6-42e9-4a60-8ca2-b70df1248871",
      "metadata": {
        "id": "a89a75c6-42e9-4a60-8ca2-b70df1248871"
      },
      "outputs": [],
      "source": [
        "def seed_everything(seed):\n",
        "    random.seed(seed)\n",
        "    os.environ['PYTHONHASHSEED'] = str(seed)\n",
        "    np.random.seed(seed)\n",
        "\n",
        "seed_everything(CFG['SEED']) # Seed 고정"
      ]
    },
    {
      "cell_type": "markdown",
      "id": "72d57a51-dc27-4af5-9261-91f61194d975",
      "metadata": {
        "id": "72d57a51-dc27-4af5-9261-91f61194d975"
      },
      "source": [
        "## Data Pre-Processing 1"
      ]
    },
    {
      "cell_type": "code",
      "execution_count": null,
      "id": "0da03dd7-888b-44f2-80ae-cb28fd091de3",
      "metadata": {
        "id": "0da03dd7-888b-44f2-80ae-cb28fd091de3"
      },
      "outputs": [],
      "source": [
        "train_df = pd.read_csv( base_path + '/train_data.csv')\n",
        "test_df = pd.read_csv( base_path + '/test_data.csv')"
      ]
    },
    {
      "cell_type": "code",
      "execution_count": null,
      "id": "9601f0b0-6d28-48de-88d3-3c68d43ad2c0",
      "metadata": {
        "id": "9601f0b0-6d28-48de-88d3-3c68d43ad2c0"
      },
      "outputs": [],
      "source": [
        "def get_mfcc_feature(df, data_type, save_path):\n",
        "    # Data Folder path\n",
        "    root_folder = base_path\n",
        "    if os.path.exists(save_path):\n",
        "        print(f'{save_path} is exist.')\n",
        "        return\n",
        "    features = []\n",
        "    for uid in tqdm(df['id']):\n",
        "        root_path = os.path.join(root_folder, data_type)\n",
        "        path = os.path.join(root_path, str(uid).zfill(5)+'.wav')\n",
        "\n",
        "        # librosa패키지를 사용하여 wav 파일 load\n",
        "        y, sr = librosa.load(path, sr=CFG['SR'])\n",
        "        \n",
        "        # librosa패키지를 사용하여 mfcc 추출\n",
        "        mfcc = librosa.feature.mfcc(y=y, sr=sr, n_mfcc=CFG['N_MFCC'])\n",
        "\n",
        "        y_feature = []\n",
        "        # 추출된 MFCC들의 평균을 Feature로 사용\n",
        "        for e in mfcc:\n",
        "            y_feature.append(np.mean(e))\n",
        "        features.append(y_feature)\n",
        "    \n",
        "    # 기존의 자가진단 정보를 담은 데이터프레임에 추출된 오디오 Feature를 추가\n",
        "    mfcc_df = pd.DataFrame(features, columns=['mfcc_'+str(x) for x in range(1,CFG['N_MFCC']+1)])\n",
        "    df = pd.concat([df, mfcc_df], axis=1)\n",
        "    df.to_csv(save_path, index=False)\n",
        "    print('Done.')"
      ]
    },
    {
      "cell_type": "code",
      "execution_count": null,
      "id": "0fe5713d-4bff-4598-bbfd-5cfb1b3109ac",
      "metadata": {
        "colab": {
          "base_uri": "https://localhost:8080/",
          "height": 117,
          "referenced_widgets": [
            "975948157f6541b9ae5801f154fc65ea",
            "b579f49b14b744aea2611c9267df0864",
            "f51459f73b924fbaad23044039d566ab",
            "f449089865dd4e4381f8cc25c36c06d9",
            "0554dc2ba8cf4678b5567c3132feffb6",
            "b428c0285d354968b18204312cd5b36b",
            "1beeba16c1af4bd5a6403e37e5be5cfa",
            "f925ba0dbd0f457098ce1a87ff1896c4",
            "bf088be218454c87af35f4af029595c9",
            "c753cdb9e5d44280971afcf9ac6570ee",
            "b8262d63092d4fb3a7a67926314f1b2d",
            "f3bd347a351c4421adf9f4d8b7257061",
            "9d975cac581342888295fa47b25c29b6",
            "d38b5da90f154070b9315ab69a1ebdc9",
            "48cca88b99d547fdbd0a3bf8f6f101e7",
            "82a2a0708a214bcfbfb2658a6a908cff",
            "4a05d62036d24f93b1f167d14fa130c7",
            "4c78c5edce3b4c34835573e0ce8e1f1d",
            "c2e41e96d7524d2e9c68da29cf8717b8",
            "2816b81b6b1a4a1fba747509e7da951a",
            "ddac231b2a5a47f7848a80742479037c",
            "222d72b2b85440639d6a87c61a7dae3d"
          ]
        },
        "id": "0fe5713d-4bff-4598-bbfd-5cfb1b3109ac",
        "outputId": "d4aadd85-f96a-4a9c-8a38-f7cb0a35ced5"
      },
      "outputs": [
        {
          "output_type": "display_data",
          "data": {
            "text/plain": [
              "  0%|          | 0/3805 [00:00<?, ?it/s]"
            ],
            "application/vnd.jupyter.widget-view+json": {
              "version_major": 2,
              "version_minor": 0,
              "model_id": "975948157f6541b9ae5801f154fc65ea"
            }
          },
          "metadata": {}
        },
        {
          "output_type": "stream",
          "name": "stdout",
          "text": [
            "Done.\n"
          ]
        },
        {
          "output_type": "display_data",
          "data": {
            "text/plain": [
              "  0%|          | 0/5732 [00:00<?, ?it/s]"
            ],
            "application/vnd.jupyter.widget-view+json": {
              "version_major": 2,
              "version_minor": 0,
              "model_id": "f3bd347a351c4421adf9f4d8b7257061"
            }
          },
          "metadata": {}
        },
        {
          "output_type": "stream",
          "name": "stdout",
          "text": [
            "Done.\n"
          ]
        }
      ],
      "source": [
        "get_mfcc_feature(train_df, 'train', base_path + '/train_mfcc_data.csv')\n",
        "get_mfcc_feature(test_df, 'test',  base_path + '/test_mfcc_data.csv')"
      ]
    },
    {
      "cell_type": "markdown",
      "id": "c998e196-6a3b-4214-8495-f026c015f8c5",
      "metadata": {
        "id": "c998e196-6a3b-4214-8495-f026c015f8c5"
      },
      "source": [
        "## Data Pre-Processing 2"
      ]
    },
    {
      "cell_type": "code",
      "execution_count": null,
      "id": "f896cce2-0f47-4377-b2a1-95144e58581b",
      "metadata": {
        "id": "f896cce2-0f47-4377-b2a1-95144e58581b"
      },
      "outputs": [],
      "source": [
        "# wav 파일의 MFCC Feature와 상태정보를 합친 학습데이터를 불러옵니다.\n",
        "train_df = pd.read_csv( base_path + '/train_mfcc_data.csv')\n",
        "\n",
        "# 학습데이터를 모델의 input으로 들어갈 x와 label로 사용할 y로 분할\n",
        "train_x = train_df.drop(columns=['id', 'covid19'])\n",
        "train_y = train_df['covid19']"
      ]
    },
    {
      "cell_type": "code",
      "execution_count": null,
      "id": "c4a66ac7-c6db-4258-802a-9fedded85412",
      "metadata": {
        "id": "c4a66ac7-c6db-4258-802a-9fedded85412"
      },
      "outputs": [],
      "source": [
        "def onehot_encoding(ohe, x):\n",
        "    # 학습데이터로 부터 fit된 one-hot encoder (ohe)를 받아 transform 시켜주는 함수\n",
        "    encoded = ohe.transform(x['gender'].values.reshape(-1,1))\n",
        "    encoded_df = pd.DataFrame(encoded, columns=ohe.categories_[0])\n",
        "    x = pd.concat([x.drop(columns=['gender']), encoded_df], axis=1)\n",
        "    return x"
      ]
    },
    {
      "cell_type": "code",
      "execution_count": null,
      "id": "cade4609-22a8-40f1-936d-a8ec8ba90f4e",
      "metadata": {
        "tags": [],
        "id": "cade4609-22a8-40f1-936d-a8ec8ba90f4e"
      },
      "outputs": [],
      "source": [
        "# 'gender' column의 경우 추가 전처리가 필요 -> OneHotEncoder 적용\n",
        "ohe = OneHotEncoder(sparse=False)\n",
        "ohe.fit(train_x['gender'].values.reshape(-1,1))\n",
        "train_x = onehot_encoding(ohe, train_x)"
      ]
    },
    {
      "cell_type": "code",
      "source": [
        "from sklearn.model_selection import train_test_split\n",
        "X_train, X_val, y_train, y_val = train_test_split(train_x, train_y, test_size=0.33)"
      ],
      "metadata": {
        "id": "uqRkgIWxBGW6"
      },
      "id": "uqRkgIWxBGW6",
      "execution_count": null,
      "outputs": []
    },
    {
      "cell_type": "markdown",
      "id": "4c44c2fb-1560-4c8a-a908-9fa9271f5e03",
      "metadata": {
        "id": "4c44c2fb-1560-4c8a-a908-9fa9271f5e03"
      },
      "source": [
        "## Train"
      ]
    },
    {
      "cell_type": "code",
      "source": [
        "from keras import models\n",
        "from keras import layers\n",
        "from keras.utils.vis_utils import plot_model\n",
        "\n",
        "model = models.Sequential()\n",
        "model.add(layers.Dense(512, activation='relu', input_shape=(train_x.shape[1],)))\n",
        "\n",
        "model.add(layers.Dense(256, activation='relu'))\n",
        "\n",
        "model.add(layers.Dense(128, activation='relu'))\n",
        "\n",
        "model.add(layers.Dense(64, activation='relu'))\n",
        "\n",
        "model.add(layers.Dense(10, activation='relu'))\n",
        "\n",
        "model.add(layers.Dense(2, activation='softmax'))\n",
        "\n",
        "# serialize model to JSON\n",
        "model_json = model.to_json()\n",
        "with open(\"model.json\", \"w\") as json_file:\n",
        "    json_file.write(model_json)\n",
        "# serialize weights to HDF5\n",
        "model.save_weights(\"model.h5\")\n",
        "print(\"Saved model to disk\")\n",
        "\n",
        "# plot model\n",
        "plot_model(model, to_file='model_plot.png', show_shapes=True, show_layer_names=True)"
      ],
      "metadata": {
        "colab": {
          "base_uri": "https://localhost:8080/",
          "height": 772
        },
        "id": "SyVVDiSo_rQZ",
        "outputId": "a5f44e29-9388-4e03-9ccc-b0d6dc15adaf"
      },
      "id": "SyVVDiSo_rQZ",
      "execution_count": null,
      "outputs": [
        {
          "output_type": "stream",
          "name": "stdout",
          "text": [
            "Saved model to disk\n"
          ]
        },
        {
          "output_type": "execute_result",
          "data": {
            "text/plain": [
              "<IPython.core.display.Image object>"
            ],
            "image/png": "[encoded data removed]"
          },
          "metadata": {},
          "execution_count": 19
        }
      ]
    },
    {
      "cell_type": "code",
      "source": [
        "model.compile(optimizer='adam',\n",
        "              loss='sparse_categorical_crossentropy',\n",
        "              metrics=['accuracy'])\n",
        "history = model.fit(X_train,\n",
        "                    y_train,\n",
        "                    epochs=100,\n",
        "                    batch_size=128)"
      ],
      "metadata": {
        "id": "l0DilMBoAKIC"
      },
      "id": "l0DilMBoAKIC",
      "execution_count": null,
      "outputs": []
    },
    {
      "cell_type": "code",
      "source": [
        "test_loss, test_acc = model.evaluate(X_val,y_val)"
      ],
      "metadata": {
        "colab": {
          "base_uri": "https://localhost:8080/"
        },
        "id": "QSxItGI4A4yJ",
        "outputId": "970ec7fd-1327-4343-b7b3-0b8ffd3a8722"
      },
      "id": "QSxItGI4A4yJ",
      "execution_count": null,
      "outputs": [
        {
          "output_type": "stream",
          "name": "stdout",
          "text": [
            "40/40 [==============================] - 0s 2ms/step - loss: 0.3334 - accuracy: 0.9108\n"
          ]
        }
      ]
    },
    {
      "cell_type": "code",
      "source": [
        "print('test_acc: ',test_acc)"
      ],
      "metadata": {
        "colab": {
          "base_uri": "https://localhost:8080/"
        },
        "id": "o03FcNpICN3-",
        "outputId": "60d762b7-231d-4086-f924-bad2358b710e"
      },
      "id": "o03FcNpICN3-",
      "execution_count": null,
      "outputs": [
        {
          "output_type": "stream",
          "name": "stdout",
          "text": [
            "test_acc:  0.9108280539512634\n"
          ]
        }
      ]
    },
    {
      "cell_type": "markdown",
      "id": "848ec15f-5fc9-480b-9c9b-bcbf68ee34ed",
      "metadata": {
        "id": "848ec15f-5fc9-480b-9c9b-bcbf68ee34ed"
      },
      "source": [
        "## Inference"
      ]
    },
    {
      "cell_type": "code",
      "execution_count": null,
      "id": "5cf251c2-6cba-446f-ab6c-45236eec93e4",
      "metadata": {
        "id": "5cf251c2-6cba-446f-ab6c-45236eec93e4"
      },
      "outputs": [],
      "source": [
        "# 위의 학습데이터를 전처리한 과정과 동일하게 test data에도 적용\n",
        "test_x = pd.read_csv(base_path + '/test_mfcc_data.csv')\n",
        "test_x = test_x.drop(columns=['id'])\n",
        "# Data Leakage에 유의하여 train data로만 학습된 ohe를 사용\n",
        "test_x = onehot_encoding(ohe, test_x)\n",
        "\n",
        "# Model 추론\n",
        "preds = model.predict(test_x)"
      ]
    },
    {
      "cell_type": "code",
      "source": [
        "preds"
      ],
      "metadata": {
        "colab": {
          "base_uri": "https://localhost:8080/"
        },
        "id": "FDbKaB3aDJyP",
        "outputId": "635cc8cb-7650-455a-cfda-5db5ab026de3"
      },
      "id": "FDbKaB3aDJyP",
      "execution_count": null,
      "outputs": [
        {
          "output_type": "execute_result",
          "data": {
            "text/plain": [
              "array([[8.08107316e-01, 1.91892654e-01],\n",
              "       [8.71168077e-01, 1.28831968e-01],\n",
              "       [8.84405017e-01, 1.15595050e-01],\n",
              "       ...,\n",
              "       [8.83081079e-01, 1.16918914e-01],\n",
              "       [9.45400000e-01, 5.46000302e-02],\n",
              "       [1.00000000e+00, 1.47424668e-08]], dtype=float32)"
            ]
          },
          "metadata": {},
          "execution_count": 29
        }
      ]
    },
    {
      "cell_type": "code",
      "source": [
        "y_classes = preds.argmax(axis=-1)\n",
        "y_classes"
      ],
      "metadata": {
        "colab": {
          "base_uri": "https://localhost:8080/"
        },
        "id": "gNgVK6EOCiiq",
        "outputId": "66ec217f-9402-424b-ae62-83146016e36d"
      },
      "id": "gNgVK6EOCiiq",
      "execution_count": null,
      "outputs": [
        {
          "output_type": "execute_result",
          "data": {
            "text/plain": [
              "array([0, 0, 0, ..., 0, 0, 0])"
            ]
          },
          "metadata": {},
          "execution_count": 28
        }
      ]
    },
    {
      "cell_type": "markdown",
      "id": "a8585466-800b-4125-8289-5dce5070990c",
      "metadata": {
        "id": "a8585466-800b-4125-8289-5dce5070990c"
      },
      "source": [
        "## Submission"
      ]
    },
    {
      "cell_type": "code",
      "execution_count": null,
      "id": "91e91fa6-ef2c-418f-90f2-e5662abe51b9",
      "metadata": {
        "id": "91e91fa6-ef2c-418f-90f2-e5662abe51b9"
      },
      "outputs": [],
      "source": [
        "submission = pd.read_csv( base_path + '/sample_submission.csv')\n",
        "submission['covid19'] = y_classes\n",
        "submission.to_csv( base_path + '/saved/submit03.csv', index=False)"
      ]
    },
    {
      "cell_type": "code",
      "source": [
        ""
      ],
      "metadata": {
        "id": "yWAXOYb6-8Jm"
      },
      "id": "yWAXOYb6-8Jm",
      "execution_count": null,
      "outputs": []
    }
  ],
  "metadata": {
    "kernelspec": {
      "display_name": "Python 3 (ipykernel)",
      "language": "python",
      "name": "python3"
    },
    "language_info": {
      "codemirror_mode": {
        "name": "ipython",
        "version": 3
      },
      "file_extension": ".py",
      "mimetype": "text/x-python",
      "name": "python",
      "nbconvert_exporter": "python",
      "pygments_lexer": "ipython3",
      "version": "3.8.3"
    },
    "colab": {
      "name": "DNN",
      "provenance": []
    },
    "accelerator": "GPU",
    "gpuClass": "standard",
    "widgets": {
      "application/vnd.jupyter.widget-state+json": {
        "975948157f6541b9ae5801f154fc65ea": {
          "model_module": "@jupyter-widgets/controls",
          "model_name": "HBoxModel",
          "model_module_version": "1.5.0",
          "state": {
            "_dom_classes": [],
            "_model_module": "@jupyter-widgets/controls",
            "_model_module_version": "1.5.0",
            "_model_name": "HBoxModel",
            "_view_count": null,
            "_view_module": "@jupyter-widgets/controls",
            "_view_module_version": "1.5.0",
            "_view_name": "HBoxView",
            "box_style": "",
            "children": [
              "IPY_MODEL_b579f49b14b744aea2611c9267df0864",
              "IPY_MODEL_f51459f73b924fbaad23044039d566ab",
              "IPY_MODEL_f449089865dd4e4381f8cc25c36c06d9"
            ],
            "layout": "IPY_MODEL_0554dc2ba8cf4678b5567c3132feffb6"
          }
        },
        "b579f49b14b744aea2611c9267df0864": {
          "model_module": "@jupyter-widgets/controls",
          "model_name": "HTMLModel",
          "model_module_version": "1.5.0",
          "state": {
            "_dom_classes": [],
            "_model_module": "@jupyter-widgets/controls",
            "_model_module_version": "1.5.0",
            "_model_name": "HTMLModel",
            "_view_count": null,
            "_view_module": "@jupyter-widgets/controls",
            "_view_module_version": "1.5.0",
            "_view_name": "HTMLView",
            "description": "",
            "description_tooltip": null,
            "layout": "IPY_MODEL_b428c0285d354968b18204312cd5b36b",
            "placeholder": "​",
            "style": "IPY_MODEL_1beeba16c1af4bd5a6403e37e5be5cfa",
            "value": "100%"
          }
        },
        "f51459f73b924fbaad23044039d566ab": {
          "model_module": "@jupyter-widgets/controls",
          "model_name": "FloatProgressModel",
          "model_module_version": "1.5.0",
          "state": {
            "_dom_classes": [],
            "_model_module": "@jupyter-widgets/controls",
            "_model_module_version": "1.5.0",
            "_model_name": "FloatProgressModel",
            "_view_count": null,
            "_view_module": "@jupyter-widgets/controls",
            "_view_module_version": "1.5.0",
            "_view_name": "ProgressView",
            "bar_style": "success",
            "description": "",
            "description_tooltip": null,
            "layout": "IPY_MODEL_f925ba0dbd0f457098ce1a87ff1896c4",
            "max": 3805,
            "min": 0,
            "orientation": "horizontal",
            "style": "IPY_MODEL_bf088be218454c87af35f4af029595c9",
            "value": 3805
          }
        },
        "f449089865dd4e4381f8cc25c36c06d9": {
          "model_module": "@jupyter-widgets/controls",
          "model_name": "HTMLModel",
          "model_module_version": "1.5.0",
          "state": {
            "_dom_classes": [],
            "_model_module": "@jupyter-widgets/controls",
            "_model_module_version": "1.5.0",
            "_model_name": "HTMLModel",
            "_view_count": null,
            "_view_module": "@jupyter-widgets/controls",
            "_view_module_version": "1.5.0",
            "_view_name": "HTMLView",
            "description": "",
            "description_tooltip": null,
            "layout": "IPY_MODEL_c753cdb9e5d44280971afcf9ac6570ee",
            "placeholder": "​",
            "style": "IPY_MODEL_b8262d63092d4fb3a7a67926314f1b2d",
            "value": " 3805/3805 [37:45&lt;00:00,  1.86it/s]"
          }
        },
        "0554dc2ba8cf4678b5567c3132feffb6": {
          "model_module": "@jupyter-widgets/base",
          "model_name": "LayoutModel",
          "model_module_version": "1.2.0",
          "state": {
            "_model_module": "@jupyter-widgets/base",
            "_model_module_version": "1.2.0",
            "_model_name": "LayoutModel",
            "_view_count": null,
            "_view_module": "@jupyter-widgets/base",
            "_view_module_version": "1.2.0",
            "_view_name": "LayoutView",
            "align_content": null,
            "align_items": null,
            "align_self": null,
            "border": null,
            "bottom": null,
            "display": null,
            "flex": null,
            "flex_flow": null,
            "grid_area": null,
            "grid_auto_columns": null,
            "grid_auto_flow": null,
            "grid_auto_rows": null,
            "grid_column": null,
            "grid_gap": null,
            "grid_row": null,
            "grid_template_areas": null,
            "grid_template_columns": null,
            "grid_template_rows": null,
            "height": null,
            "justify_content": null,
            "justify_items": null,
            "left": null,
            "margin": null,
            "max_height": null,
            "max_width": null,
            "min_height": null,
            "min_width": null,
            "object_fit": null,
            "object_position": null,
            "order": null,
            "overflow": null,
            "overflow_x": null,
            "overflow_y": null,
            "padding": null,
            "right": null,
            "top": null,
            "visibility": null,
            "width": null
          }
        },
        "b428c0285d354968b18204312cd5b36b": {
          "model_module": "@jupyter-widgets/base",
          "model_name": "LayoutModel",
          "model_module_version": "1.2.0",
          "state": {
            "_model_module": "@jupyter-widgets/base",
            "_model_module_version": "1.2.0",
            "_model_name": "LayoutModel",
            "_view_count": null,
            "_view_module": "@jupyter-widgets/base",
            "_view_module_version": "1.2.0",
            "_view_name": "LayoutView",
            "align_content": null,
            "align_items": null,
            "align_self": null,
            "border": null,
            "bottom": null,
            "display": null,
            "flex": null,
            "flex_flow": null,
            "grid_area": null,
            "grid_auto_columns": null,
            "grid_auto_flow": null,
            "grid_auto_rows": null,
            "grid_column": null,
            "grid_gap": null,
            "grid_row": null,
            "grid_template_areas": null,
            "grid_template_columns": null,
            "grid_template_rows": null,
            "height": null,
            "justify_content": null,
            "justify_items": null,
            "left": null,
            "margin": null,
            "max_height": null,
            "max_width": null,
            "min_height": null,
            "min_width": null,
            "object_fit": null,
            "object_position": null,
            "order": null,
            "overflow": null,
            "overflow_x": null,
            "overflow_y": null,
            "padding": null,
            "right": null,
            "top": null,
            "visibility": null,
            "width": null
          }
        },
        "1beeba16c1af4bd5a6403e37e5be5cfa": {
          "model_module": "@jupyter-widgets/controls",
          "model_name": "DescriptionStyleModel",
          "model_module_version": "1.5.0",
          "state": {
            "_model_module": "@jupyter-widgets/controls",
            "_model_module_version": "1.5.0",
            "_model_name": "DescriptionStyleModel",
            "_view_count": null,
            "_view_module": "@jupyter-widgets/base",
            "_view_module_version": "1.2.0",
            "_view_name": "StyleView",
            "description_width": ""
          }
        },
        "f925ba0dbd0f457098ce1a87ff1896c4": {
          "model_module": "@jupyter-widgets/base",
          "model_name": "LayoutModel",
          "model_module_version": "1.2.0",
          "state": {
            "_model_module": "@jupyter-widgets/base",
            "_model_module_version": "1.2.0",
            "_model_name": "LayoutModel",
            "_view_count": null,
            "_view_module": "@jupyter-widgets/base",
            "_view_module_version": "1.2.0",
            "_view_name": "LayoutView",
            "align_content": null,
            "align_items": null,
            "align_self": null,
            "border": null,
            "bottom": null,
            "display": null,
            "flex": null,
            "flex_flow": null,
            "grid_area": null,
            "grid_auto_columns": null,
            "grid_auto_flow": null,
            "grid_auto_rows": null,
            "grid_column": null,
            "grid_gap": null,
            "grid_row": null,
            "grid_template_areas": null,
            "grid_template_columns": null,
            "grid_template_rows": null,
            "height": null,
            "justify_content": null,
            "justify_items": null,
            "left": null,
            "margin": null,
            "max_height": null,
            "max_width": null,
            "min_height": null,
            "min_width": null,
            "object_fit": null,
            "object_position": null,
            "order": null,
            "overflow": null,
            "overflow_x": null,
            "overflow_y": null,
            "padding": null,
            "right": null,
            "top": null,
            "visibility": null,
            "width": null
          }
        },
        "bf088be218454c87af35f4af029595c9": {
          "model_module": "@jupyter-widgets/controls",
          "model_name": "ProgressStyleModel",
          "model_module_version": "1.5.0",
          "state": {
            "_model_module": "@jupyter-widgets/controls",
            "_model_module_version": "1.5.0",
            "_model_name": "ProgressStyleModel",
            "_view_count": null,
            "_view_module": "@jupyter-widgets/base",
            "_view_module_version": "1.2.0",
            "_view_name": "StyleView",
            "bar_color": null,
            "description_width": ""
          }
        },
        "c753cdb9e5d44280971afcf9ac6570ee": {
          "model_module": "@jupyter-widgets/base",
          "model_name": "LayoutModel",
          "model_module_version": "1.2.0",
          "state": {
            "_model_module": "@jupyter-widgets/base",
            "_model_module_version": "1.2.0",
            "_model_name": "LayoutModel",
            "_view_count": null,
            "_view_module": "@jupyter-widgets/base",
            "_view_module_version": "1.2.0",
            "_view_name": "LayoutView",
            "align_content": null,
            "align_items": null,
            "align_self": null,
            "border": null,
            "bottom": null,
            "display": null,
            "flex": null,
            "flex_flow": null,
            "grid_area": null,
            "grid_auto_columns": null,
            "grid_auto_flow": null,
            "grid_auto_rows": null,
            "grid_column": null,
            "grid_gap": null,
            "grid_row": null,
            "grid_template_areas": null,
            "grid_template_columns": null,
            "grid_template_rows": null,
            "height": null,
            "justify_content": null,
            "justify_items": null,
            "left": null,
            "margin": null,
            "max_height": null,
            "max_width": null,
            "min_height": null,
            "min_width": null,
            "object_fit": null,
            "object_position": null,
            "order": null,
            "overflow": null,
            "overflow_x": null,
            "overflow_y": null,
            "padding": null,
            "right": null,
            "top": null,
            "visibility": null,
            "width": null
          }
        },
        "b8262d63092d4fb3a7a67926314f1b2d": {
          "model_module": "@jupyter-widgets/controls",
          "model_name": "DescriptionStyleModel",
          "model_module_version": "1.5.0",
          "state": {
            "_model_module": "@jupyter-widgets/controls",
            "_model_module_version": "1.5.0",
            "_model_name": "DescriptionStyleModel",
            "_view_count": null,
            "_view_module": "@jupyter-widgets/base",
            "_view_module_version": "1.2.0",
            "_view_name": "StyleView",
            "description_width": ""
          }
        },
        "f3bd347a351c4421adf9f4d8b7257061": {
          "model_module": "@jupyter-widgets/controls",
          "model_name": "HBoxModel",
          "model_module_version": "1.5.0",
          "state": {
            "_dom_classes": [],
            "_model_module": "@jupyter-widgets/controls",
            "_model_module_version": "1.5.0",
            "_model_name": "HBoxModel",
            "_view_count": null,
            "_view_module": "@jupyter-widgets/controls",
            "_view_module_version": "1.5.0",
            "_view_name": "HBoxView",
            "box_style": "",
            "children": [
              "IPY_MODEL_9d975cac581342888295fa47b25c29b6",
              "IPY_MODEL_d38b5da90f154070b9315ab69a1ebdc9",
              "IPY_MODEL_48cca88b99d547fdbd0a3bf8f6f101e7"
            ],
            "layout": "IPY_MODEL_82a2a0708a214bcfbfb2658a6a908cff"
          }
        },
        "9d975cac581342888295fa47b25c29b6": {
          "model_module": "@jupyter-widgets/controls",
          "model_name": "HTMLModel",
          "model_module_version": "1.5.0",
          "state": {
            "_dom_classes": [],
            "_model_module": "@jupyter-widgets/controls",
            "_model_module_version": "1.5.0",
            "_model_name": "HTMLModel",
            "_view_count": null,
            "_view_module": "@jupyter-widgets/controls",
            "_view_module_version": "1.5.0",
            "_view_name": "HTMLView",
            "description": "",
            "description_tooltip": null,
            "layout": "IPY_MODEL_4a05d62036d24f93b1f167d14fa130c7",
            "placeholder": "​",
            "style": "IPY_MODEL_4c78c5edce3b4c34835573e0ce8e1f1d",
            "value": "100%"
          }
        },
        "d38b5da90f154070b9315ab69a1ebdc9": {
          "model_module": "@jupyter-widgets/controls",
          "model_name": "FloatProgressModel",
          "model_module_version": "1.5.0",
          "state": {
            "_dom_classes": [],
            "_model_module": "@jupyter-widgets/controls",
            "_model_module_version": "1.5.0",
            "_model_name": "FloatProgressModel",
            "_view_count": null,
            "_view_module": "@jupyter-widgets/controls",
            "_view_module_version": "1.5.0",
            "_view_name": "ProgressView",
            "bar_style": "success",
            "description": "",
            "description_tooltip": null,
            "layout": "IPY_MODEL_c2e41e96d7524d2e9c68da29cf8717b8",
            "max": 5732,
            "min": 0,
            "orientation": "horizontal",
            "style": "IPY_MODEL_2816b81b6b1a4a1fba747509e7da951a",
            "value": 5732
          }
        },
        "48cca88b99d547fdbd0a3bf8f6f101e7": {
          "model_module": "@jupyter-widgets/controls",
          "model_name": "HTMLModel",
          "model_module_version": "1.5.0",
          "state": {
            "_dom_classes": [],
            "_model_module": "@jupyter-widgets/controls",
            "_model_module_version": "1.5.0",
            "_model_name": "HTMLModel",
            "_view_count": null,
            "_view_module": "@jupyter-widgets/controls",
            "_view_module_version": "1.5.0",
            "_view_name": "HTMLView",
            "description": "",
            "description_tooltip": null,
            "layout": "IPY_MODEL_ddac231b2a5a47f7848a80742479037c",
            "placeholder": "​",
            "style": "IPY_MODEL_222d72b2b85440639d6a87c61a7dae3d",
            "value": " 5732/5732 [55:53&lt;00:00,  1.69it/s]"
          }
        },
        "82a2a0708a214bcfbfb2658a6a908cff": {
          "model_module": "@jupyter-widgets/base",
          "model_name": "LayoutModel",
          "model_module_version": "1.2.0",
          "state": {
            "_model_module": "@jupyter-widgets/base",
            "_model_module_version": "1.2.0",
            "_model_name": "LayoutModel",
            "_view_count": null,
            "_view_module": "@jupyter-widgets/base",
            "_view_module_version": "1.2.0",
            "_view_name": "LayoutView",
            "align_content": null,
            "align_items": null,
            "align_self": null,
            "border": null,
            "bottom": null,
            "display": null,
            "flex": null,
            "flex_flow": null,
            "grid_area": null,
            "grid_auto_columns": null,
            "grid_auto_flow": null,
            "grid_auto_rows": null,
            "grid_column": null,
            "grid_gap": null,
            "grid_row": null,
            "grid_template_areas": null,
            "grid_template_columns": null,
            "grid_template_rows": null,
            "height": null,
            "justify_content": null,
            "justify_items": null,
            "left": null,
            "margin": null,
            "max_height": null,
            "max_width": null,
            "min_height": null,
            "min_width": null,
            "object_fit": null,
            "object_position": null,
            "order": null,
            "overflow": null,
            "overflow_x": null,
            "overflow_y": null,
            "padding": null,
            "right": null,
            "top": null,
            "visibility": null,
            "width": null
          }
        },
        "4a05d62036d24f93b1f167d14fa130c7": {
          "model_module": "@jupyter-widgets/base",
          "model_name": "LayoutModel",
          "model_module_version": "1.2.0",
          "state": {
            "_model_module": "@jupyter-widgets/base",
            "_model_module_version": "1.2.0",
            "_model_name": "LayoutModel",
            "_view_count": null,
            "_view_module": "@jupyter-widgets/base",
            "_view_module_version": "1.2.0",
            "_view_name": "LayoutView",
            "align_content": null,
            "align_items": null,
            "align_self": null,
            "border": null,
            "bottom": null,
            "display": null,
            "flex": null,
            "flex_flow": null,
            "grid_area": null,
            "grid_auto_columns": null,
            "grid_auto_flow": null,
            "grid_auto_rows": null,
            "grid_column": null,
            "grid_gap": null,
            "grid_row": null,
            "grid_template_areas": null,
            "grid_template_columns": null,
            "grid_template_rows": null,
            "height": null,
            "justify_content": null,
            "justify_items": null,
            "left": null,
            "margin": null,
            "max_height": null,
            "max_width": null,
            "min_height": null,
            "min_width": null,
            "object_fit": null,
            "object_position": null,
            "order": null,
            "overflow": null,
            "overflow_x": null,
            "overflow_y": null,
            "padding": null,
            "right": null,
            "top": null,
            "visibility": null,
            "width": null
          }
        },
        "4c78c5edce3b4c34835573e0ce8e1f1d": {
          "model_module": "@jupyter-widgets/controls",
          "model_name": "DescriptionStyleModel",
          "model_module_version": "1.5.0",
          "state": {
            "_model_module": "@jupyter-widgets/controls",
            "_model_module_version": "1.5.0",
            "_model_name": "DescriptionStyleModel",
            "_view_count": null,
            "_view_module": "@jupyter-widgets/base",
            "_view_module_version": "1.2.0",
            "_view_name": "StyleView",
            "description_width": ""
          }
        },
        "c2e41e96d7524d2e9c68da29cf8717b8": {
          "model_module": "@jupyter-widgets/base",
          "model_name": "LayoutModel",
          "model_module_version": "1.2.0",
          "state": {
            "_model_module": "@jupyter-widgets/base",
            "_model_module_version": "1.2.0",
            "_model_name": "LayoutModel",
            "_view_count": null,
            "_view_module": "@jupyter-widgets/base",
            "_view_module_version": "1.2.0",
            "_view_name": "LayoutView",
            "align_content": null,
            "align_items": null,
            "align_self": null,
            "border": null,
            "bottom": null,
            "display": null,
            "flex": null,
            "flex_flow": null,
            "grid_area": null,
            "grid_auto_columns": null,
            "grid_auto_flow": null,
            "grid_auto_rows": null,
            "grid_column": null,
            "grid_gap": null,
            "grid_row": null,
            "grid_template_areas": null,
            "grid_template_columns": null,
            "grid_template_rows": null,
            "height": null,
            "justify_content": null,
            "justify_items": null,
            "left": null,
            "margin": null,
            "max_height": null,
            "max_width": null,
            "min_height": null,
            "min_width": null,
            "object_fit": null,
            "object_position": null,
            "order": null,
            "overflow": null,
            "overflow_x": null,
            "overflow_y": null,
            "padding": null,
            "right": null,
            "top": null,
            "visibility": null,
            "width": null
          }
        },
        "2816b81b6b1a4a1fba747509e7da951a": {
          "model_module": "@jupyter-widgets/controls",
          "model_name": "ProgressStyleModel",
          "model_module_version": "1.5.0",
          "state": {
            "_model_module": "@jupyter-widgets/controls",
            "_model_module_version": "1.5.0",
            "_model_name": "ProgressStyleModel",
            "_view_count": null,
            "_view_module": "@jupyter-widgets/base",
            "_view_module_version": "1.2.0",
            "_view_name": "StyleView",
            "bar_color": null,
            "description_width": ""
          }
        },
        "ddac231b2a5a47f7848a80742479037c": {
          "model_module": "@jupyter-widgets/base",
          "model_name": "LayoutModel",
          "model_module_version": "1.2.0",
          "state": {
            "_model_module": "@jupyter-widgets/base",
            "_model_module_version": "1.2.0",
            "_model_name": "LayoutModel",
            "_view_count": null,
            "_view_module": "@jupyter-widgets/base",
            "_view_module_version": "1.2.0",
            "_view_name": "LayoutView",
            "align_content": null,
            "align_items": null,
            "align_self": null,
            "border": null,
            "bottom": null,
            "display": null,
            "flex": null,
            "flex_flow": null,
            "grid_area": null,
            "grid_auto_columns": null,
            "grid_auto_flow": null,
            "grid_auto_rows": null,
            "grid_column": null,
            "grid_gap": null,
            "grid_row": null,
            "grid_template_areas": null,
            "grid_template_columns": null,
            "grid_template_rows": null,
            "height": null,
            "justify_content": null,
            "justify_items": null,
            "left": null,
            "margin": null,
            "max_height": null,
            "max_width": null,
            "min_height": null,
            "min_width": null,
            "object_fit": null,
            "object_position": null,
            "order": null,
            "overflow": null,
            "overflow_x": null,
            "overflow_y": null,
            "padding": null,
            "right": null,
            "top": null,
            "visibility": null,
            "width": null
          }
        },
        "222d72b2b85440639d6a87c61a7dae3d": {
          "model_module": "@jupyter-widgets/controls",
          "model_name": "DescriptionStyleModel",
          "model_module_version": "1.5.0",
          "state": {
            "_model_module": "@jupyter-widgets/controls",
            "_model_module_version": "1.5.0",
            "_model_name": "DescriptionStyleModel",
            "_view_count": null,
            "_view_module": "@jupyter-widgets/base",
            "_view_module_version": "1.2.0",
            "_view_name": "StyleView",
            "description_width": ""
          }
        }
      }
    }
  },
  "nbformat": 4,
  "nbformat_minor": 5
}