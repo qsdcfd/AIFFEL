{
  "nbformat": 4,
  "nbformat_minor": 0,
  "metadata": {
    "colab": {
      "name": "Content-based Movie Rating Estimation",
      "provenance": [],
      "authorship_tag": "ABX9TyNXSvvI8dgwYhkfzLrLOkUm"
    },
    "kernelspec": {
      "name": "python3",
      "display_name": "Python 3"
    },
    "language_info": {
      "name": "python"
    }
  },
  "cells": [
    {
      "cell_type": "markdown",
      "source": [
        "### Content-based Movie Rating Estimation"
      ],
      "metadata": {
        "id": "0JBwov9a3MMA"
      }
    },
    {
      "cell_type": "markdown",
      "source": [
        "**import required packages**"
      ],
      "metadata": {
        "id": "_5LvJVk03TQ4"
      }
    },
    {
      "cell_type": "code",
      "execution_count": 2,
      "metadata": {
        "id": "jS1nkqYstf3b"
      },
      "outputs": [],
      "source": [
        "%run liblecture.py\n",
        "\n",
        "import math\n",
        "import numpy as np\n",
        "from numpy import linalg as LA\n",
        "import pandas as pd"
      ]
    },
    {
      "cell_type": "markdown",
      "source": [
        "### Movies Weight Matrix on Genres\n",
        "\n",
        "Read movie metadata from a csv file."
      ],
      "metadata": {
        "id": "rCMYyJWt3ml6"
      }
    },
    {
      "cell_type": "code",
      "source": [
        "movies = pd.read_csv('/content/movies_w_imgurl.csv')\n",
        "movies.head()"
      ],
      "metadata": {
        "id": "ntI-ztD83fhS"
      },
      "execution_count": null,
      "outputs": []
    },
    {
      "cell_type": "markdown",
      "source": [
        "Split genres and stack genres into one column"
      ],
      "metadata": {
        "id": "vnto1AqX3zAw"
      }
    },
    {
      "cell_type": "code",
      "source": [
        "movieGenres = pd.DataFrame(data=movies['genres'].str.split('|').apply(pd.Series,1).stack(), columns=['genre'])\n",
        "movieGenres.index = movieGenres.index.droplevel(1)"
      ],
      "metadata": {
        "id": "phG58EKV3wzN"
      },
      "execution_count": 4,
      "outputs": []
    },
    {
      "cell_type": "code",
      "source": [
        "movieGenres"
      ],
      "metadata": {
        "id": "mUopKl_o4bo2"
      },
      "execution_count": null,
      "outputs": []
    },
    {
      "cell_type": "markdown",
      "source": [
        "Count movies that have each genre and then compute IDF of genres"
      ],
      "metadata": {
        "id": "wtV1Qj2w4gXN"
      }
    },
    {
      "cell_type": "code",
      "source": [
        "genres = pd.DataFrame(data=movieGenres.groupby('genre')['genre'].count())\n",
        "genres.columns = ['movieCount']\n",
        "\n",
        "totalitems = movies.shape[0]\n",
        "\n",
        "genres['idf'] = genres['movieCount'].apply(lambda x: math.log10(totalitems/x))\n",
        "\n",
        "genres.head()"
      ],
      "metadata": {
        "id": "-Xo4-Xjm4dde"
      },
      "execution_count": null,
      "outputs": []
    },
    {
      "cell_type": "markdown",
      "source": [
        "Join genre's IDF to movie genre DataFrame"
      ],
      "metadata": {
        "id": "J2iAIpoL6vNM"
      }
    },
    {
      "cell_type": "code",
      "source": [
        "movieGenreWeights = movieGenres.join(genres['idf'], on='genre')\n",
        "movieGenreWeights"
      ],
      "metadata": {
        "id": "8i_pikEz49m8"
      },
      "execution_count": null,
      "outputs": []
    },
    {
      "cell_type": "code",
      "source": [
        "movieWeights = movies[['movieId']]\n",
        "\n",
        "for genre in genres.index:\n",
        "    movieGenreIdf = movieGenreWeights[movieGenreWeights['genre'] == genre][['idf']]\n",
        "    movieGenreIdf = movieGenreIdf.rename(columns = {'idf':genre})\n",
        "    movieWeights = movieWeights.join(movieGenreIdf)\n",
        "\n",
        "movieWeights.fillna(0, inplace= True)"
      ],
      "metadata": {
        "id": "xdDpkUYh67UV"
      },
      "execution_count": 8,
      "outputs": []
    },
    {
      "cell_type": "markdown",
      "source": [
        "### Movie-Movie Cosine Similarity Matrix\n",
        "Compute $l_2$-norm of movies."
      ],
      "metadata": {
        "id": "JUysTQNy7jcX"
      }
    },
    {
      "cell_type": "code",
      "source": [
        "movieNorms = pd.DataFrame(data = LA.norm(movieWeights.iloc[:,1:].values, ord=2, axis=1), index = movieWeights.index,columns=['norm2'] )\n",
        "movieNorms"
      ],
      "metadata": {
        "colab": {
          "base_uri": "https://localhost:8080/",
          "height": 424
        },
        "id": "9hRiXnuB7igu",
        "outputId": "da5be78c-a344-4ca9-e82e-a36687cda3a0"
      },
      "execution_count": 10,
      "outputs": [
        {
          "output_type": "execute_result",
          "data": {
            "text/plain": [
              "         norm2\n",
              "0     2.340636\n",
              "1     1.889257\n",
              "2     0.887857\n",
              "3     0.943848\n",
              "4     0.439749\n",
              "...        ...\n",
              "9120  1.236746\n",
              "9121  1.965710\n",
              "9122  1.265628\n",
              "9123  0.439749\n",
              "9124  1.265628\n",
              "\n",
              "[9125 rows x 1 columns]"
            ],
            "text/html": [
              "\n",
              "  <div id=\"df-f23746f6-61cc-40ee-b9bd-981ec8415e98\">\n",
              "    <div class=\"colab-df-container\">\n",
              "      <div>\n",
              "<style scoped>\n",
              "    .dataframe tbody tr th:only-of-type {\n",
              "        vertical-align: middle;\n",
              "    }\n",
              "\n",
              "    .dataframe tbody tr th {\n",
              "        vertical-align: top;\n",
              "    }\n",
              "\n",
              "    .dataframe thead th {\n",
              "        text-align: right;\n",
              "    }\n",
              "</style>\n",
              "<table border=\"1\" class=\"dataframe\">\n",
              "  <thead>\n",
              "    <tr style=\"text-align: right;\">\n",
              "      <th></th>\n",
              "      <th>norm2</th>\n",
              "    </tr>\n",
              "  </thead>\n",
              "  <tbody>\n",
              "    <tr>\n",
              "      <th>0</th>\n",
              "      <td>2.340636</td>\n",
              "    </tr>\n",
              "    <tr>\n",
              "      <th>1</th>\n",
              "      <td>1.889257</td>\n",
              "    </tr>\n",
              "    <tr>\n",
              "      <th>2</th>\n",
              "      <td>0.887857</td>\n",
              "    </tr>\n",
              "    <tr>\n",
              "      <th>3</th>\n",
              "      <td>0.943848</td>\n",
              "    </tr>\n",
              "    <tr>\n",
              "      <th>4</th>\n",
              "      <td>0.439749</td>\n",
              "    </tr>\n",
              "    <tr>\n",
              "      <th>...</th>\n",
              "      <td>...</td>\n",
              "    </tr>\n",
              "    <tr>\n",
              "      <th>9120</th>\n",
              "      <td>1.236746</td>\n",
              "    </tr>\n",
              "    <tr>\n",
              "      <th>9121</th>\n",
              "      <td>1.965710</td>\n",
              "    </tr>\n",
              "    <tr>\n",
              "      <th>9122</th>\n",
              "      <td>1.265628</td>\n",
              "    </tr>\n",
              "    <tr>\n",
              "      <th>9123</th>\n",
              "      <td>0.439749</td>\n",
              "    </tr>\n",
              "    <tr>\n",
              "      <th>9124</th>\n",
              "      <td>1.265628</td>\n",
              "    </tr>\n",
              "  </tbody>\n",
              "</table>\n",
              "<p>9125 rows × 1 columns</p>\n",
              "</div>\n",
              "      <button class=\"colab-df-convert\" onclick=\"convertToInteractive('df-f23746f6-61cc-40ee-b9bd-981ec8415e98')\"\n",
              "              title=\"Convert this dataframe to an interactive table.\"\n",
              "              style=\"display:none;\">\n",
              "        \n",
              "  <svg xmlns=\"http://www.w3.org/2000/svg\" height=\"24px\"viewBox=\"0 0 24 24\"\n",
              "       width=\"24px\">\n",
              "    <path d=\"M0 0h24v24H0V0z\" fill=\"none\"/>\n",
              "    <path d=\"M18.56 5.44l.94 2.06.94-2.06 2.06-.94-2.06-.94-.94-2.06-.94 2.06-2.06.94zm-11 1L8.5 8.5l.94-2.06 2.06-.94-2.06-.94L8.5 2.5l-.94 2.06-2.06.94zm10 10l.94 2.06.94-2.06 2.06-.94-2.06-.94-.94-2.06-.94 2.06-2.06.94z\"/><path d=\"M17.41 7.96l-1.37-1.37c-.4-.4-.92-.59-1.43-.59-.52 0-1.04.2-1.43.59L10.3 9.45l-7.72 7.72c-.78.78-.78 2.05 0 2.83L4 21.41c.39.39.9.59 1.41.59.51 0 1.02-.2 1.41-.59l7.78-7.78 2.81-2.81c.8-.78.8-2.07 0-2.86zM5.41 20L4 18.59l7.72-7.72 1.47 1.35L5.41 20z\"/>\n",
              "  </svg>\n",
              "      </button>\n",
              "      \n",
              "  <style>\n",
              "    .colab-df-container {\n",
              "      display:flex;\n",
              "      flex-wrap:wrap;\n",
              "      gap: 12px;\n",
              "    }\n",
              "\n",
              "    .colab-df-convert {\n",
              "      background-color: #E8F0FE;\n",
              "      border: none;\n",
              "      border-radius: 50%;\n",
              "      cursor: pointer;\n",
              "      display: none;\n",
              "      fill: #1967D2;\n",
              "      height: 32px;\n",
              "      padding: 0 0 0 0;\n",
              "      width: 32px;\n",
              "    }\n",
              "\n",
              "    .colab-df-convert:hover {\n",
              "      background-color: #E2EBFA;\n",
              "      box-shadow: 0px 1px 2px rgba(60, 64, 67, 0.3), 0px 1px 3px 1px rgba(60, 64, 67, 0.15);\n",
              "      fill: #174EA6;\n",
              "    }\n",
              "\n",
              "    [theme=dark] .colab-df-convert {\n",
              "      background-color: #3B4455;\n",
              "      fill: #D2E3FC;\n",
              "    }\n",
              "\n",
              "    [theme=dark] .colab-df-convert:hover {\n",
              "      background-color: #434B5C;\n",
              "      box-shadow: 0px 1px 3px 1px rgba(0, 0, 0, 0.15);\n",
              "      filter: drop-shadow(0px 1px 2px rgba(0, 0, 0, 0.3));\n",
              "      fill: #FFFFFF;\n",
              "    }\n",
              "  </style>\n",
              "\n",
              "      <script>\n",
              "        const buttonEl =\n",
              "          document.querySelector('#df-f23746f6-61cc-40ee-b9bd-981ec8415e98 button.colab-df-convert');\n",
              "        buttonEl.style.display =\n",
              "          google.colab.kernel.accessAllowed ? 'block' : 'none';\n",
              "\n",
              "        async function convertToInteractive(key) {\n",
              "          const element = document.querySelector('#df-f23746f6-61cc-40ee-b9bd-981ec8415e98');\n",
              "          const dataTable =\n",
              "            await google.colab.kernel.invokeFunction('convertToInteractive',\n",
              "                                                     [key], {});\n",
              "          if (!dataTable) return;\n",
              "\n",
              "          const docLinkHtml = 'Like what you see? Visit the ' +\n",
              "            '<a target=\"_blank\" href=https://colab.research.google.com/notebooks/data_table.ipynb>data table notebook</a>'\n",
              "            + ' to learn more about interactive tables.';\n",
              "          element.innerHTML = '';\n",
              "          dataTable['output_type'] = 'display_data';\n",
              "          await google.colab.output.renderOutput(dataTable, element);\n",
              "          const docLink = document.createElement('div');\n",
              "          docLink.innerHTML = docLinkHtml;\n",
              "          element.appendChild(docLink);\n",
              "        }\n",
              "      </script>\n",
              "    </div>\n",
              "  </div>\n",
              "  "
            ]
          },
          "metadata": {},
          "execution_count": 10
        }
      ]
    },
    {
      "cell_type": "markdown",
      "source": [
        "Normalize movie vector so that similarity can be computed simply by inner product between vectors.\n",
        "\n",
        "$$ cosine(u, v)=\\frac{\\sum_{\\forall i}{u_i v_i}}{||u||_2||v||_2}=\\sum_{\\forall i}{\\frac{u_i v_i}{||u||_2||v||_2}}=\\sum_{\\forall i}{\\frac{u_i}{||u||_2}\\frac{v_i}{||v||_2}}=u'\\cdot v'$$"
      ],
      "metadata": {
        "id": "oyrzLGSE8ho4"
      }
    },
    {
      "cell_type": "code",
      "source": [
        "normalizedMovieWeights = movieWeights.iloc[:, 1:].divide(movieNorms['norm2'], axis=0)\n",
        "\n",
        "#소수점 2자리만 보여줘\n",
        "np.set_printoptions(precision=2)\n",
        "pd.set_option('display.precision', 2)\n",
        "\n",
        "normalizedMovieWeights"
      ],
      "metadata": {
        "id": "cYrcKFQL8eU9"
      },
      "execution_count": null,
      "outputs": []
    },
    {
      "cell_type": "markdown",
      "source": [
        "Create item-item similarity matrix"
      ],
      "metadata": {
        "id": "zUAZ6LIv9PAU"
      }
    },
    {
      "cell_type": "code",
      "source": [
        "sims = pd.DataFrame(data=np.matmul(normalizedMovieWeights, normalizedMovieWeights.T))\n",
        "\n",
        "sims.index = movieWeights['movieId']\n",
        "sims.columns = movieWeights['movieId']\n",
        "\n",
        "sims"
      ],
      "metadata": {
        "id": "1i-vksDB9Lqw"
      },
      "execution_count": null,
      "outputs": []
    },
    {
      "cell_type": "markdown",
      "source": [
        "## Recommend Movies based on Predicted Ratings"
      ],
      "metadata": {
        "id": "DSAIc5D89zxB"
      }
    },
    {
      "cell_type": "markdown",
      "source": [
        "Read ratings as train and test datasets"
      ],
      "metadata": {
        "id": "DBPj8aK8-teZ"
      }
    },
    {
      "cell_type": "code",
      "source": [
        "ratings = pd.read_csv('/content/ratings.csv')\n",
        "\n",
        "train = ratings[ratings['type'] == 'train'][['userId', 'movieId', 'rating']]\n",
        "test = ratings[ratings['type'] == 'test'][['userId', 'movieId', 'rating']]"
      ],
      "metadata": {
        "id": "ePygq_s29x83"
      },
      "execution_count": null,
      "outputs": []
    },
    {
      "cell_type": "markdown",
      "source": [
        "Set test user ID"
      ],
      "metadata": {
        "id": "9xsGVMPE_6hZ"
      }
    },
    {
      "cell_type": "code",
      "source": [
        "userId = 33"
      ],
      "metadata": {
        "id": "k-cOLGCJ-XRd"
      },
      "execution_count": null,
      "outputs": []
    },
    {
      "cell_type": "markdown",
      "source": [
        "Check top rated movies of the test user"
      ],
      "metadata": {
        "id": "EdNyctGjAAKj"
      }
    },
    {
      "cell_type": "code",
      "source": [
        "userRatings = train[train['userId']= == userId][['movieId','rating']]\n",
        "\n",
        "topRatings = userRatings.sort_values(by='rating', ascending=False).head(20)\n",
        "\n",
        "topRatings\n",
        "\n",
        "displayMovies(movies, topRatings['movieId'].values, topRatings['rating'].values)"
      ],
      "metadata": {
        "id": "fp1Xo_FtAChQ"
      },
      "execution_count": null,
      "outputs": []
    },
    {
      "cell_type": "markdown",
      "source": [
        "Predict item ratings for the test usres"
      ],
      "metadata": {
        "id": "kOx0yHjoAxv9"
      }
    },
    {
      "cell_type": "code",
      "source": [
        "recSimSums = sims.loc[userRatings['movieId'].values, :].sum().values\n",
        "\n",
        "recSimSums = recSimSums + 1\n",
        "\n",
        "recWeightedRatingSums = np.matmul(sims.loc[userRatings['movieId'].values,:].T.values, userRatings['rating'].values)\n",
        "\n",
        "recitemRatings = pd.DataFrame(data = np.divide(recWeightedRatingSums, recSimSums), index=sims.index)\n",
        "\n",
        "recitemRatings.columns = ['pred']\n",
        "\n",
        "recitemRatings"
      ],
      "metadata": {
        "id": "bBprhSCeA0q1"
      },
      "execution_count": null,
      "outputs": []
    },
    {
      "cell_type": "markdown",
      "source": [
        "Check recommended items"
      ],
      "metadata": {
        "id": "RU00T1PCCz5Q"
      }
    },
    {
      "cell_type": "code",
      "source": [
        "top30Movies = recitemRatings.sort_values(by='pred', ascending=False).head(30)\n",
        "\n",
        "displayMovies(movies, top30Movies.index, top30Movies['pred'].values)"
      ],
      "metadata": {
        "id": "vwlW59kyC1tE"
      },
      "execution_count": null,
      "outputs": []
    },
    {
      "cell_type": "markdown",
      "source": [
        "Compute MAE and RMSE for the test user "
      ],
      "metadata": {
        "id": "9XGDA3SVDRYy"
      }
    },
    {
      "cell_type": "code",
      "source": [
        "userTestRatings = pd.DataFrame(data=test[test['userId'] == userId])\n",
        "\n",
        "temp = userTestRatings.join(recItemRatings.loc[userTestRatings['movieId']], on='movieId')\n",
        "\n",
        "mae = getMAE(temp['rating'], temp['pred'])\n",
        "rmse = getRMSE(temp['rating'], temp['pred'])\n",
        "\n",
        "print(f\"MAE : {mae:.4f}\")\n",
        "print(f\"RMSE: {rmse:.4f}\")"
      ],
      "metadata": {
        "id": "nPJVXCrADUCQ"
      },
      "execution_count": null,
      "outputs": []
    }
  ]
}