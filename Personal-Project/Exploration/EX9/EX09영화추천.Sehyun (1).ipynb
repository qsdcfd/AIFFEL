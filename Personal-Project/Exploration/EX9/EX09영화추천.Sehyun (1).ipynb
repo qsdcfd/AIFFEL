{
 "cells": [
  {
   "cell_type": "markdown",
   "id": "careful-metro",
   "metadata": {},
   "source": [
    "## 평가기준\n",
    "\n",
    "1. CSR matrix가 정상적으로 만들어졌다.\n",
    "   \n",
    "  - 사용자와 아이템 갯수를 바탕으로 정확한 사이즈로 만들었다.\n",
    "   \n",
    "   \n",
    "2. MF 모델이 정상적으로 훈련되어 그럴듯한 추천이 이루어졌다.\n",
    "\n",
    "  - 사용자와 아이템 백터 내적 수치가 의미있게 형성되었다.\n",
    "   \n",
    "   \n",
    "3. 비슷한 영화 찾기와 유저에게 추천하기의 과정이 정상적으로 진행되었다.\n",
    "\n",
    "\n",
    " - MF 모델이 예측한 유저 선호도 및 아이템간 유사도, 기여도가 의미있게 측정되었다."
   ]
  },
  {
   "cell_type": "markdown",
   "id": "figured-starter",
   "metadata": {},
   "source": [
    "#### 파일을 심볼릭 링크로 연결"
   ]
  },
  {
   "cell_type": "code",
   "execution_count": 1,
   "id": "horizontal-electric",
   "metadata": {},
   "outputs": [],
   "source": [
    "! mkdir -p ~/aiffel/recommendata_iu/data/ml-1m\n",
    "! ln -s ~/data/ml-1m/* ~/aiffel/recommendata_iu/data/ml-1m"
   ]
  },
  {
   "cell_type": "markdown",
   "id": "other-portsmouth",
   "metadata": {},
   "source": [
    "# 데이터 준비와 전처리"
   ]
  },
  {
   "cell_type": "markdown",
   "id": "collective-circumstances",
   "metadata": {},
   "source": [
    "### 데이터 준비"
   ]
  },
  {
   "cell_type": "code",
   "execution_count": 2,
   "id": "virgin-mapping",
   "metadata": {},
   "outputs": [
    {
     "data": {
      "text/html": [
       "<div>\n",
       "<style scoped>\n",
       "    .dataframe tbody tr th:only-of-type {\n",
       "        vertical-align: middle;\n",
       "    }\n",
       "\n",
       "    .dataframe tbody tr th {\n",
       "        vertical-align: top;\n",
       "    }\n",
       "\n",
       "    .dataframe thead th {\n",
       "        text-align: right;\n",
       "    }\n",
       "</style>\n",
       "<table border=\"1\" class=\"dataframe\">\n",
       "  <thead>\n",
       "    <tr style=\"text-align: right;\">\n",
       "      <th></th>\n",
       "      <th>user_id</th>\n",
       "      <th>movie_id</th>\n",
       "      <th>rating</th>\n",
       "      <th>timestamp</th>\n",
       "    </tr>\n",
       "  </thead>\n",
       "  <tbody>\n",
       "    <tr>\n",
       "      <th>0</th>\n",
       "      <td>1</td>\n",
       "      <td>1193</td>\n",
       "      <td>5</td>\n",
       "      <td>978300760</td>\n",
       "    </tr>\n",
       "    <tr>\n",
       "      <th>1</th>\n",
       "      <td>1</td>\n",
       "      <td>661</td>\n",
       "      <td>3</td>\n",
       "      <td>978302109</td>\n",
       "    </tr>\n",
       "    <tr>\n",
       "      <th>2</th>\n",
       "      <td>1</td>\n",
       "      <td>914</td>\n",
       "      <td>3</td>\n",
       "      <td>978301968</td>\n",
       "    </tr>\n",
       "    <tr>\n",
       "      <th>3</th>\n",
       "      <td>1</td>\n",
       "      <td>3408</td>\n",
       "      <td>4</td>\n",
       "      <td>978300275</td>\n",
       "    </tr>\n",
       "    <tr>\n",
       "      <th>4</th>\n",
       "      <td>1</td>\n",
       "      <td>2355</td>\n",
       "      <td>5</td>\n",
       "      <td>978824291</td>\n",
       "    </tr>\n",
       "  </tbody>\n",
       "</table>\n",
       "</div>"
      ],
      "text/plain": [
       "   user_id  movie_id  rating  timestamp\n",
       "0        1      1193       5  978300760\n",
       "1        1       661       3  978302109\n",
       "2        1       914       3  978301968\n",
       "3        1      3408       4  978300275\n",
       "4        1      2355       5  978824291"
      ]
     },
     "execution_count": 2,
     "metadata": {},
     "output_type": "execute_result"
    }
   ],
   "source": [
    "import pandas as pd\n",
    "import os\n",
    "rating_file_path=os.getenv('HOME') + '/aiffel/recommendata_iu/data/ml-1m/ratings.dat'\n",
    "ratings_cols = ['user_id', 'movie_id', 'rating', 'timestamp']\n",
    "ratings = pd.read_csv(rating_file_path, sep='::', names=ratings_cols, engine='python', encoding = \"ISO-8859-1\")\n",
    "orginal_data_size = len(ratings)\n",
    "ratings.head()"
   ]
  },
  {
   "cell_type": "markdown",
   "id": "sustainable-quarterly",
   "metadata": {},
   "source": [
    "- 데이터 내용 부르기\n",
    "\n",
    "- 4개의 항목으로 구성이 됨\n",
    ": user_id , movie_id, rating, timestamp column"
   ]
  },
  {
   "cell_type": "code",
   "execution_count": 3,
   "id": "timely-processor",
   "metadata": {},
   "outputs": [
    {
     "name": "stdout",
     "output_type": "stream",
     "text": [
      "orginal_data_size: 1000209, filtered_data_size: 836478\n",
      "Ratio of Remaining Data is 83.63%\n"
     ]
    }
   ],
   "source": [
    "\n",
    "ratings = ratings[ratings['rating']>=3]\n",
    "filtered_data_size = len(ratings)\n",
    "\n",
    "print(f'orginal_data_size: {orginal_data_size}, filtered_data_size: {filtered_data_size}')\n",
    "print(f'Ratio of Remaining Data is {filtered_data_size / orginal_data_size:.2%}')"
   ]
  },
  {
   "cell_type": "markdown",
   "id": "neural-curtis",
   "metadata": {},
   "source": [
    "- 평점이 3점이상인 movie는 전체 83.63%이다."
   ]
  },
  {
   "cell_type": "markdown",
   "id": "passing-investment",
   "metadata": {},
   "source": [
    "## 데이터 전처리"
   ]
  },
  {
   "cell_type": "code",
   "execution_count": 5,
   "id": "intellectual-melbourne",
   "metadata": {},
   "outputs": [],
   "source": [
    "ratings.rename(columns={'rating':'count'}, inplace=True)"
   ]
  },
  {
   "cell_type": "markdown",
   "id": "neutral-notion",
   "metadata": {},
   "source": [
    "- count가 없기 때문에 count를 대신할 수 있는 rating의 이름을 변경한다."
   ]
  },
  {
   "cell_type": "code",
   "execution_count": 6,
   "id": "excellent-mistake",
   "metadata": {},
   "outputs": [
    {
     "data": {
      "text/plain": [
       "0          5\n",
       "1          3\n",
       "2          3\n",
       "3          4\n",
       "4          5\n",
       "          ..\n",
       "1000203    3\n",
       "1000205    5\n",
       "1000206    5\n",
       "1000207    4\n",
       "1000208    4\n",
       "Name: count, Length: 836478, dtype: int64"
      ]
     },
     "execution_count": 6,
     "metadata": {},
     "output_type": "execute_result"
    }
   ],
   "source": [
    "ratings['count']"
   ]
  },
  {
   "cell_type": "code",
   "execution_count": 7,
   "id": "wooden-biodiversity",
   "metadata": {},
   "outputs": [
    {
     "data": {
      "text/html": [
       "<div>\n",
       "<style scoped>\n",
       "    .dataframe tbody tr th:only-of-type {\n",
       "        vertical-align: middle;\n",
       "    }\n",
       "\n",
       "    .dataframe tbody tr th {\n",
       "        vertical-align: top;\n",
       "    }\n",
       "\n",
       "    .dataframe thead th {\n",
       "        text-align: right;\n",
       "    }\n",
       "</style>\n",
       "<table border=\"1\" class=\"dataframe\">\n",
       "  <thead>\n",
       "    <tr style=\"text-align: right;\">\n",
       "      <th></th>\n",
       "      <th>movie_id</th>\n",
       "      <th>title</th>\n",
       "      <th>genre</th>\n",
       "    </tr>\n",
       "  </thead>\n",
       "  <tbody>\n",
       "    <tr>\n",
       "      <th>0</th>\n",
       "      <td>1</td>\n",
       "      <td>Toy Story (1995)</td>\n",
       "      <td>Animation|Children's|Comedy</td>\n",
       "    </tr>\n",
       "    <tr>\n",
       "      <th>1</th>\n",
       "      <td>2</td>\n",
       "      <td>Jumanji (1995)</td>\n",
       "      <td>Adventure|Children's|Fantasy</td>\n",
       "    </tr>\n",
       "    <tr>\n",
       "      <th>2</th>\n",
       "      <td>3</td>\n",
       "      <td>Grumpier Old Men (1995)</td>\n",
       "      <td>Comedy|Romance</td>\n",
       "    </tr>\n",
       "    <tr>\n",
       "      <th>3</th>\n",
       "      <td>4</td>\n",
       "      <td>Waiting to Exhale (1995)</td>\n",
       "      <td>Comedy|Drama</td>\n",
       "    </tr>\n",
       "    <tr>\n",
       "      <th>4</th>\n",
       "      <td>5</td>\n",
       "      <td>Father of the Bride Part II (1995)</td>\n",
       "      <td>Comedy</td>\n",
       "    </tr>\n",
       "  </tbody>\n",
       "</table>\n",
       "</div>"
      ],
      "text/plain": [
       "   movie_id                               title                         genre\n",
       "0         1                    Toy Story (1995)   Animation|Children's|Comedy\n",
       "1         2                      Jumanji (1995)  Adventure|Children's|Fantasy\n",
       "2         3             Grumpier Old Men (1995)                Comedy|Romance\n",
       "3         4            Waiting to Exhale (1995)                  Comedy|Drama\n",
       "4         5  Father of the Bride Part II (1995)                        Comedy"
      ]
     },
     "execution_count": 7,
     "metadata": {},
     "output_type": "execute_result"
    }
   ],
   "source": [
    "\n",
    "movie_file_path=os.getenv('HOME') + '/aiffel/recommendata_iu/data/ml-1m/movies.dat'\n",
    "cols = ['movie_id', 'title', 'genre'] \n",
    "movies = pd.read_csv(movie_file_path, sep='::', names=cols, engine='python', encoding='ISO-8859-1')\n",
    "movies.head()"
   ]
  },
  {
   "cell_type": "markdown",
   "id": "consolidated-outreach",
   "metadata": {},
   "source": [
    "영화 제목을 확인하기 위해 데이터 부름."
   ]
  },
  {
   "cell_type": "code",
   "execution_count": 8,
   "id": "boxed-facing",
   "metadata": {},
   "outputs": [
    {
     "data": {
      "text/html": [
       "<div>\n",
       "<style scoped>\n",
       "    .dataframe tbody tr th:only-of-type {\n",
       "        vertical-align: middle;\n",
       "    }\n",
       "\n",
       "    .dataframe tbody tr th {\n",
       "        vertical-align: top;\n",
       "    }\n",
       "\n",
       "    .dataframe thead th {\n",
       "        text-align: right;\n",
       "    }\n",
       "</style>\n",
       "<table border=\"1\" class=\"dataframe\">\n",
       "  <thead>\n",
       "    <tr style=\"text-align: right;\">\n",
       "      <th></th>\n",
       "      <th>user_id</th>\n",
       "      <th>movie_id</th>\n",
       "      <th>count</th>\n",
       "      <th>timestamp</th>\n",
       "      <th>title</th>\n",
       "      <th>genre</th>\n",
       "    </tr>\n",
       "  </thead>\n",
       "  <tbody>\n",
       "    <tr>\n",
       "      <th>0</th>\n",
       "      <td>1</td>\n",
       "      <td>1193</td>\n",
       "      <td>5</td>\n",
       "      <td>978300760</td>\n",
       "      <td>One Flew Over the Cuckoo's Nest (1975)</td>\n",
       "      <td>Drama</td>\n",
       "    </tr>\n",
       "    <tr>\n",
       "      <th>1</th>\n",
       "      <td>1</td>\n",
       "      <td>661</td>\n",
       "      <td>3</td>\n",
       "      <td>978302109</td>\n",
       "      <td>James and the Giant Peach (1996)</td>\n",
       "      <td>Animation|Children's|Musical</td>\n",
       "    </tr>\n",
       "    <tr>\n",
       "      <th>2</th>\n",
       "      <td>1</td>\n",
       "      <td>914</td>\n",
       "      <td>3</td>\n",
       "      <td>978301968</td>\n",
       "      <td>My Fair Lady (1964)</td>\n",
       "      <td>Musical|Romance</td>\n",
       "    </tr>\n",
       "    <tr>\n",
       "      <th>3</th>\n",
       "      <td>1</td>\n",
       "      <td>3408</td>\n",
       "      <td>4</td>\n",
       "      <td>978300275</td>\n",
       "      <td>Erin Brockovich (2000)</td>\n",
       "      <td>Drama</td>\n",
       "    </tr>\n",
       "    <tr>\n",
       "      <th>4</th>\n",
       "      <td>1</td>\n",
       "      <td>2355</td>\n",
       "      <td>5</td>\n",
       "      <td>978824291</td>\n",
       "      <td>Bug's Life, A (1998)</td>\n",
       "      <td>Animation|Children's|Comedy</td>\n",
       "    </tr>\n",
       "  </tbody>\n",
       "</table>\n",
       "</div>"
      ],
      "text/plain": [
       "   user_id  movie_id  count  timestamp  \\\n",
       "0        1      1193      5  978300760   \n",
       "1        1       661      3  978302109   \n",
       "2        1       914      3  978301968   \n",
       "3        1      3408      4  978300275   \n",
       "4        1      2355      5  978824291   \n",
       "\n",
       "                                    title                         genre  \n",
       "0  One Flew Over the Cuckoo's Nest (1975)                         Drama  \n",
       "1        James and the Giant Peach (1996)  Animation|Children's|Musical  \n",
       "2                     My Fair Lady (1964)               Musical|Romance  \n",
       "3                  Erin Brockovich (2000)                         Drama  \n",
       "4                    Bug's Life, A (1998)   Animation|Children's|Comedy  "
      ]
     },
     "execution_count": 8,
     "metadata": {},
     "output_type": "execute_result"
    }
   ],
   "source": [
    "ratings = ratings.join(movies.set_index('movie_id'), on='movie_id')\n",
    "ratings.head()"
   ]
  },
  {
   "cell_type": "markdown",
   "id": "careful-suicide",
   "metadata": {},
   "source": [
    "별점 부분과 영화를 매칭함"
   ]
  },
  {
   "cell_type": "markdown",
   "id": "postal-september",
   "metadata": {},
   "source": [
    "허나 이번 프로젝트에는 장르와 timestamp가 필요없으므로 불필요한 데이터 삭제"
   ]
  },
  {
   "cell_type": "code",
   "execution_count": 9,
   "id": "heavy-circus",
   "metadata": {
    "scrolled": true
   },
   "outputs": [
    {
     "data": {
      "text/html": [
       "<div>\n",
       "<style scoped>\n",
       "    .dataframe tbody tr th:only-of-type {\n",
       "        vertical-align: middle;\n",
       "    }\n",
       "\n",
       "    .dataframe tbody tr th {\n",
       "        vertical-align: top;\n",
       "    }\n",
       "\n",
       "    .dataframe thead th {\n",
       "        text-align: right;\n",
       "    }\n",
       "</style>\n",
       "<table border=\"1\" class=\"dataframe\">\n",
       "  <thead>\n",
       "    <tr style=\"text-align: right;\">\n",
       "      <th></th>\n",
       "      <th>user_id</th>\n",
       "      <th>movie_id</th>\n",
       "      <th>count</th>\n",
       "      <th>title</th>\n",
       "    </tr>\n",
       "  </thead>\n",
       "  <tbody>\n",
       "    <tr>\n",
       "      <th>0</th>\n",
       "      <td>1</td>\n",
       "      <td>1193</td>\n",
       "      <td>5</td>\n",
       "      <td>One Flew Over the Cuckoo's Nest (1975)</td>\n",
       "    </tr>\n",
       "    <tr>\n",
       "      <th>1</th>\n",
       "      <td>1</td>\n",
       "      <td>661</td>\n",
       "      <td>3</td>\n",
       "      <td>James and the Giant Peach (1996)</td>\n",
       "    </tr>\n",
       "    <tr>\n",
       "      <th>2</th>\n",
       "      <td>1</td>\n",
       "      <td>914</td>\n",
       "      <td>3</td>\n",
       "      <td>My Fair Lady (1964)</td>\n",
       "    </tr>\n",
       "    <tr>\n",
       "      <th>3</th>\n",
       "      <td>1</td>\n",
       "      <td>3408</td>\n",
       "      <td>4</td>\n",
       "      <td>Erin Brockovich (2000)</td>\n",
       "    </tr>\n",
       "    <tr>\n",
       "      <th>4</th>\n",
       "      <td>1</td>\n",
       "      <td>2355</td>\n",
       "      <td>5</td>\n",
       "      <td>Bug's Life, A (1998)</td>\n",
       "    </tr>\n",
       "  </tbody>\n",
       "</table>\n",
       "</div>"
      ],
      "text/plain": [
       "   user_id  movie_id  count                                   title\n",
       "0        1      1193      5  One Flew Over the Cuckoo's Nest (1975)\n",
       "1        1       661      3        James and the Giant Peach (1996)\n",
       "2        1       914      3                     My Fair Lady (1964)\n",
       "3        1      3408      4                  Erin Brockovich (2000)\n",
       "4        1      2355      5                    Bug's Life, A (1998)"
      ]
     },
     "execution_count": 9,
     "metadata": {},
     "output_type": "execute_result"
    }
   ],
   "source": [
    "ratings = ratings.drop(columns=['timestamp', 'genre'])\n",
    "ratings.head()"
   ]
  },
  {
   "cell_type": "markdown",
   "id": "boolean-occasions",
   "metadata": {},
   "source": [
    "# 데이터 분석\n",
    "\n",
    "1) ratings에 있는 유니크한 영화 개수\n",
    "\n",
    "2) ratings에 있는 유니크한 사용자 수\n",
    "\n",
    "3) 가장 인기 있는 영화 30개(인기순)"
   ]
  },
  {
   "cell_type": "markdown",
   "id": "technical-discretion",
   "metadata": {},
   "source": [
    "1. 유니크한 영화 개수, 영화제목 그리고 사용자 수 추출"
   ]
  },
  {
   "cell_type": "code",
   "execution_count": 10,
   "id": "upset-traveler",
   "metadata": {
    "scrolled": true
   },
   "outputs": [
    {
     "name": "stdout",
     "output_type": "stream",
     "text": [
      "# of movie_id:  3628\n",
      "# of title   :  3628\n",
      "# of user_id :  6039\n"
     ]
    }
   ],
   "source": [
    "print('# of movie_id: ', ratings['movie_id'].nunique())\n",
    "print('# of title   : ', ratings['title'].nunique())\n",
    "print('# of user_id : ', ratings['user_id'].nunique())"
   ]
  },
  {
   "cell_type": "markdown",
   "id": "informational-superintendent",
   "metadata": {},
   "source": [
    "2. 가장 인기 있는 영화 30개순을 나열한다\n",
    "\n",
    "-> 다양한 판단 기준이 있겠지만 저는 그 중에서 영화를 본 사용자의 수로 측정했습니다."
   ]
  },
  {
   "cell_type": "code",
   "execution_count": 11,
   "id": "nasty-medicaid",
   "metadata": {},
   "outputs": [
    {
     "data": {
      "text/plain": [
       "title\n",
       "American Beauty (1999)                                   3211\n",
       "Star Wars: Episode IV - A New Hope (1977)                2910\n",
       "Star Wars: Episode V - The Empire Strikes Back (1980)    2885\n",
       "Star Wars: Episode VI - Return of the Jedi (1983)        2716\n",
       "Saving Private Ryan (1998)                               2561\n",
       "Terminator 2: Judgment Day (1991)                        2509\n",
       "Silence of the Lambs, The (1991)                         2498\n",
       "Raiders of the Lost Ark (1981)                           2473\n",
       "Back to the Future (1985)                                2460\n",
       "Matrix, The (1999)                                       2434\n",
       "Jurassic Park (1993)                                     2413\n",
       "Sixth Sense, The (1999)                                  2385\n",
       "Fargo (1996)                                             2371\n",
       "Braveheart (1995)                                        2314\n",
       "Men in Black (1997)                                      2297\n",
       "Schindler's List (1993)                                  2257\n",
       "Princess Bride, The (1987)                               2252\n",
       "Shakespeare in Love (1998)                               2213\n",
       "L.A. Confidential (1997)                                 2210\n",
       "Shawshank Redemption, The (1994)                         2194\n",
       "Godfather, The (1972)                                    2167\n",
       "Groundhog Day (1993)                                     2121\n",
       "E.T. the Extra-Terrestrial (1982)                        2102\n",
       "Being John Malkovich (1999)                              2066\n",
       "Ghostbusters (1984)                                      2051\n",
       "Pulp Fiction (1994)                                      2030\n",
       "Forrest Gump (1994)                                      2022\n",
       "Terminator, The (1984)                                   2019\n",
       "Toy Story (1995)                                         2000\n",
       "Fugitive, The (1993)                                     1941\n",
       "Name: user_id, dtype: int64"
      ]
     },
     "execution_count": 11,
     "metadata": {},
     "output_type": "execute_result"
    }
   ],
   "source": [
    "movie_count = ratings.groupby('title')['user_id'].count()\n",
    "movie_count.sort_values(ascending=False).head(30)"
   ]
  },
  {
   "cell_type": "markdown",
   "id": "working-resolution",
   "metadata": {},
   "source": [
    "사용자 기준으로 통계를 낸 이유는 가장 많은 유니크한 수를 가지고 있을 뿐만 아니라 가장 원초적으로 몇 만 관람수를 의미하기 때문입니다."
   ]
  },
  {
   "cell_type": "code",
   "execution_count": 12,
   "id": "computational-alias",
   "metadata": {},
   "outputs": [
    {
     "data": {
      "text/plain": [
       "count    6039.000000\n",
       "mean      138.512668\n",
       "std       156.241599\n",
       "min         1.000000\n",
       "25%        38.000000\n",
       "50%        81.000000\n",
       "75%       177.000000\n",
       "max      1968.000000\n",
       "Name: movie_id, dtype: float64"
      ]
     },
     "execution_count": 12,
     "metadata": {},
     "output_type": "execute_result"
    }
   ],
   "source": [
    "user_count = ratings.groupby('user_id')['movie_id'].count()\n",
    "user_count.describe()"
   ]
  },
  {
   "cell_type": "markdown",
   "id": "adjacent-framework",
   "metadata": {},
   "source": [
    "### 제가 유튜브에서 원하는 영화를 찾는 것처럼 선호 영화를 추가하겠습니다.\n",
    "\n",
    "- 영화 제목을 키워드로 검색하기 입니다."
   ]
  },
  {
   "cell_type": "code",
   "execution_count": 13,
   "id": "indonesian-lithuania",
   "metadata": {},
   "outputs": [
    {
     "data": {
      "text/html": [
       "<div>\n",
       "<style scoped>\n",
       "    .dataframe tbody tr th:only-of-type {\n",
       "        vertical-align: middle;\n",
       "    }\n",
       "\n",
       "    .dataframe tbody tr th {\n",
       "        vertical-align: top;\n",
       "    }\n",
       "\n",
       "    .dataframe thead th {\n",
       "        text-align: right;\n",
       "    }\n",
       "</style>\n",
       "<table border=\"1\" class=\"dataframe\">\n",
       "  <thead>\n",
       "    <tr style=\"text-align: right;\">\n",
       "      <th></th>\n",
       "      <th>movie_id</th>\n",
       "      <th>title</th>\n",
       "      <th>genre</th>\n",
       "    </tr>\n",
       "  </thead>\n",
       "  <tbody>\n",
       "    <tr>\n",
       "      <th>122</th>\n",
       "      <td>124</td>\n",
       "      <td>Star Maker, The (Uomo delle stelle, L') (1995)</td>\n",
       "      <td>Drama</td>\n",
       "    </tr>\n",
       "    <tr>\n",
       "      <th>129</th>\n",
       "      <td>131</td>\n",
       "      <td>Frankie Starlight (1995)</td>\n",
       "      <td>Drama|Romance</td>\n",
       "    </tr>\n",
       "    <tr>\n",
       "      <th>195</th>\n",
       "      <td>197</td>\n",
       "      <td>Stars Fell on Henrietta, The (1995)</td>\n",
       "      <td>Drama</td>\n",
       "    </tr>\n",
       "    <tr>\n",
       "      <th>257</th>\n",
       "      <td>260</td>\n",
       "      <td>Star Wars: Episode IV - A New Hope (1977)</td>\n",
       "      <td>Action|Adventure|Fantasy|Sci-Fi</td>\n",
       "    </tr>\n",
       "    <tr>\n",
       "      <th>313</th>\n",
       "      <td>316</td>\n",
       "      <td>Stargate (1994)</td>\n",
       "      <td>Action|Adventure|Sci-Fi</td>\n",
       "    </tr>\n",
       "    <tr>\n",
       "      <th>325</th>\n",
       "      <td>329</td>\n",
       "      <td>Star Trek: Generations (1994)</td>\n",
       "      <td>Action|Adventure|Sci-Fi</td>\n",
       "    </tr>\n",
       "    <tr>\n",
       "      <th>790</th>\n",
       "      <td>800</td>\n",
       "      <td>Lone Star (1996)</td>\n",
       "      <td>Drama|Mystery</td>\n",
       "    </tr>\n",
       "    <tr>\n",
       "      <th>1025</th>\n",
       "      <td>1038</td>\n",
       "      <td>Unhook the Stars (1996)</td>\n",
       "      <td>Drama</td>\n",
       "    </tr>\n",
       "    <tr>\n",
       "      <th>1178</th>\n",
       "      <td>1196</td>\n",
       "      <td>Star Wars: Episode V - The Empire Strikes Back...</td>\n",
       "      <td>Action|Adventure|Drama|Sci-Fi|War</td>\n",
       "    </tr>\n",
       "    <tr>\n",
       "      <th>1192</th>\n",
       "      <td>1210</td>\n",
       "      <td>Star Wars: Episode VI - Return of the Jedi (1983)</td>\n",
       "      <td>Action|Adventure|Romance|Sci-Fi|War</td>\n",
       "    </tr>\n",
       "    <tr>\n",
       "      <th>1335</th>\n",
       "      <td>1356</td>\n",
       "      <td>Star Trek: First Contact (1996)</td>\n",
       "      <td>Action|Adventure|Sci-Fi</td>\n",
       "    </tr>\n",
       "    <tr>\n",
       "      <th>1350</th>\n",
       "      <td>1371</td>\n",
       "      <td>Star Trek: The Motion Picture (1979)</td>\n",
       "      <td>Action|Adventure|Sci-Fi</td>\n",
       "    </tr>\n",
       "    <tr>\n",
       "      <th>1351</th>\n",
       "      <td>1372</td>\n",
       "      <td>Star Trek VI: The Undiscovered Country (1991)</td>\n",
       "      <td>Action|Adventure|Sci-Fi</td>\n",
       "    </tr>\n",
       "    <tr>\n",
       "      <th>1352</th>\n",
       "      <td>1373</td>\n",
       "      <td>Star Trek V: The Final Frontier (1989)</td>\n",
       "      <td>Action|Adventure|Sci-Fi</td>\n",
       "    </tr>\n",
       "    <tr>\n",
       "      <th>1353</th>\n",
       "      <td>1374</td>\n",
       "      <td>Star Trek: The Wrath of Khan (1982)</td>\n",
       "      <td>Action|Adventure|Sci-Fi</td>\n",
       "    </tr>\n",
       "    <tr>\n",
       "      <th>1354</th>\n",
       "      <td>1375</td>\n",
       "      <td>Star Trek III: The Search for Spock (1984)</td>\n",
       "      <td>Action|Adventure|Sci-Fi</td>\n",
       "    </tr>\n",
       "    <tr>\n",
       "      <th>1355</th>\n",
       "      <td>1376</td>\n",
       "      <td>Star Trek IV: The Voyage Home (1986)</td>\n",
       "      <td>Action|Adventure|Sci-Fi</td>\n",
       "    </tr>\n",
       "    <tr>\n",
       "      <th>1376</th>\n",
       "      <td>1397</td>\n",
       "      <td>Bastard Out of Carolina (1996)</td>\n",
       "      <td>Drama</td>\n",
       "    </tr>\n",
       "    <tr>\n",
       "      <th>1387</th>\n",
       "      <td>1410</td>\n",
       "      <td>Evening Star, The (1996)</td>\n",
       "      <td>Comedy|Drama</td>\n",
       "    </tr>\n",
       "    <tr>\n",
       "      <th>1571</th>\n",
       "      <td>1613</td>\n",
       "      <td>Star Maps (1997)</td>\n",
       "      <td>Drama</td>\n",
       "    </tr>\n",
       "    <tr>\n",
       "      <th>1630</th>\n",
       "      <td>1676</td>\n",
       "      <td>Starship Troopers (1997)</td>\n",
       "      <td>Action|Adventure|Sci-Fi|War</td>\n",
       "    </tr>\n",
       "    <tr>\n",
       "      <th>1698</th>\n",
       "      <td>1750</td>\n",
       "      <td>Star Kid (1997)</td>\n",
       "      <td>Adventure|Children's|Fantasy|Sci-Fi</td>\n",
       "    </tr>\n",
       "    <tr>\n",
       "      <th>2177</th>\n",
       "      <td>2246</td>\n",
       "      <td>Stars and Bars (1988)</td>\n",
       "      <td>Comedy</td>\n",
       "    </tr>\n",
       "    <tr>\n",
       "      <th>2221</th>\n",
       "      <td>2290</td>\n",
       "      <td>Stardust Memories (1980)</td>\n",
       "      <td>Comedy|Drama</td>\n",
       "    </tr>\n",
       "    <tr>\n",
       "      <th>2324</th>\n",
       "      <td>2393</td>\n",
       "      <td>Star Trek: Insurrection (1998)</td>\n",
       "      <td>Action|Sci-Fi</td>\n",
       "    </tr>\n",
       "    <tr>\n",
       "      <th>2559</th>\n",
       "      <td>2628</td>\n",
       "      <td>Star Wars: Episode I - The Phantom Menace (1999)</td>\n",
       "      <td>Action|Adventure|Fantasy|Sci-Fi</td>\n",
       "    </tr>\n",
       "    <tr>\n",
       "      <th>2838</th>\n",
       "      <td>2907</td>\n",
       "      <td>Superstar (1999)</td>\n",
       "      <td>Comedy</td>\n",
       "    </tr>\n",
       "    <tr>\n",
       "      <th>3097</th>\n",
       "      <td>3166</td>\n",
       "      <td>Brenda Starr (1989)</td>\n",
       "      <td>Adventure</td>\n",
       "    </tr>\n",
       "    <tr>\n",
       "      <th>3133</th>\n",
       "      <td>3202</td>\n",
       "      <td>Even Dwarfs Started Small (Auch Zwerge haben k...</td>\n",
       "      <td>Drama</td>\n",
       "    </tr>\n",
       "    <tr>\n",
       "      <th>3148</th>\n",
       "      <td>3217</td>\n",
       "      <td>Star Is Born, A (1937)</td>\n",
       "      <td>Drama</td>\n",
       "    </tr>\n",
       "    <tr>\n",
       "      <th>3630</th>\n",
       "      <td>3699</td>\n",
       "      <td>Starman (1984)</td>\n",
       "      <td>Adventure|Drama|Romance|Sci-Fi</td>\n",
       "    </tr>\n",
       "    <tr>\n",
       "      <th>3639</th>\n",
       "      <td>3708</td>\n",
       "      <td>Firestarter (1984)</td>\n",
       "      <td>Horror|Thriller</td>\n",
       "    </tr>\n",
       "  </tbody>\n",
       "</table>\n",
       "</div>"
      ],
      "text/plain": [
       "      movie_id                                              title  \\\n",
       "122        124     Star Maker, The (Uomo delle stelle, L') (1995)   \n",
       "129        131                           Frankie Starlight (1995)   \n",
       "195        197                Stars Fell on Henrietta, The (1995)   \n",
       "257        260          Star Wars: Episode IV - A New Hope (1977)   \n",
       "313        316                                    Stargate (1994)   \n",
       "325        329                      Star Trek: Generations (1994)   \n",
       "790        800                                   Lone Star (1996)   \n",
       "1025      1038                            Unhook the Stars (1996)   \n",
       "1178      1196  Star Wars: Episode V - The Empire Strikes Back...   \n",
       "1192      1210  Star Wars: Episode VI - Return of the Jedi (1983)   \n",
       "1335      1356                    Star Trek: First Contact (1996)   \n",
       "1350      1371               Star Trek: The Motion Picture (1979)   \n",
       "1351      1372      Star Trek VI: The Undiscovered Country (1991)   \n",
       "1352      1373             Star Trek V: The Final Frontier (1989)   \n",
       "1353      1374                Star Trek: The Wrath of Khan (1982)   \n",
       "1354      1375         Star Trek III: The Search for Spock (1984)   \n",
       "1355      1376               Star Trek IV: The Voyage Home (1986)   \n",
       "1376      1397                     Bastard Out of Carolina (1996)   \n",
       "1387      1410                           Evening Star, The (1996)   \n",
       "1571      1613                                   Star Maps (1997)   \n",
       "1630      1676                           Starship Troopers (1997)   \n",
       "1698      1750                                    Star Kid (1997)   \n",
       "2177      2246                              Stars and Bars (1988)   \n",
       "2221      2290                           Stardust Memories (1980)   \n",
       "2324      2393                     Star Trek: Insurrection (1998)   \n",
       "2559      2628   Star Wars: Episode I - The Phantom Menace (1999)   \n",
       "2838      2907                                   Superstar (1999)   \n",
       "3097      3166                                Brenda Starr (1989)   \n",
       "3133      3202  Even Dwarfs Started Small (Auch Zwerge haben k...   \n",
       "3148      3217                             Star Is Born, A (1937)   \n",
       "3630      3699                                     Starman (1984)   \n",
       "3639      3708                                 Firestarter (1984)   \n",
       "\n",
       "                                    genre  \n",
       "122                                 Drama  \n",
       "129                         Drama|Romance  \n",
       "195                                 Drama  \n",
       "257       Action|Adventure|Fantasy|Sci-Fi  \n",
       "313               Action|Adventure|Sci-Fi  \n",
       "325               Action|Adventure|Sci-Fi  \n",
       "790                         Drama|Mystery  \n",
       "1025                                Drama  \n",
       "1178    Action|Adventure|Drama|Sci-Fi|War  \n",
       "1192  Action|Adventure|Romance|Sci-Fi|War  \n",
       "1335              Action|Adventure|Sci-Fi  \n",
       "1350              Action|Adventure|Sci-Fi  \n",
       "1351              Action|Adventure|Sci-Fi  \n",
       "1352              Action|Adventure|Sci-Fi  \n",
       "1353              Action|Adventure|Sci-Fi  \n",
       "1354              Action|Adventure|Sci-Fi  \n",
       "1355              Action|Adventure|Sci-Fi  \n",
       "1376                                Drama  \n",
       "1387                         Comedy|Drama  \n",
       "1571                                Drama  \n",
       "1630          Action|Adventure|Sci-Fi|War  \n",
       "1698  Adventure|Children's|Fantasy|Sci-Fi  \n",
       "2177                               Comedy  \n",
       "2221                         Comedy|Drama  \n",
       "2324                        Action|Sci-Fi  \n",
       "2559      Action|Adventure|Fantasy|Sci-Fi  \n",
       "2838                               Comedy  \n",
       "3097                            Adventure  \n",
       "3133                                Drama  \n",
       "3148                                Drama  \n",
       "3630       Adventure|Drama|Romance|Sci-Fi  \n",
       "3639                      Horror|Thriller  "
      ]
     },
     "execution_count": 13,
     "metadata": {},
     "output_type": "execute_result"
    }
   ],
   "source": [
    "\n",
    "movies[movies['title'].str.lower().str.contains('star', regex=False)]"
   ]
  },
  {
   "cell_type": "markdown",
   "id": "printable-canon",
   "metadata": {},
   "source": [
    "- 제가 직접 선호하는 영화 5편을 선정하여 dataframe을 만들기.\n",
    "\n",
    "- 제가 선호하기 때문에 별점 최대인 5번을 본 것을 위주로 뽑겠습니다"
   ]
  },
  {
   "cell_type": "code",
   "execution_count": 14,
   "id": "urban-deficit",
   "metadata": {},
   "outputs": [
    {
     "data": {
      "text/html": [
       "<div>\n",
       "<style scoped>\n",
       "    .dataframe tbody tr th:only-of-type {\n",
       "        vertical-align: middle;\n",
       "    }\n",
       "\n",
       "    .dataframe tbody tr th {\n",
       "        vertical-align: top;\n",
       "    }\n",
       "\n",
       "    .dataframe thead th {\n",
       "        text-align: right;\n",
       "    }\n",
       "</style>\n",
       "<table border=\"1\" class=\"dataframe\">\n",
       "  <thead>\n",
       "    <tr style=\"text-align: right;\">\n",
       "      <th></th>\n",
       "      <th>user_id</th>\n",
       "      <th>movie_id</th>\n",
       "      <th>count</th>\n",
       "      <th>title</th>\n",
       "    </tr>\n",
       "  </thead>\n",
       "  <tbody>\n",
       "    <tr>\n",
       "      <th>0</th>\n",
       "      <td>Dutch_Lee</td>\n",
       "      <td>1</td>\n",
       "      <td>5</td>\n",
       "      <td>Toy Story (1995)</td>\n",
       "    </tr>\n",
       "    <tr>\n",
       "      <th>1</th>\n",
       "      <td>Dutch_Lee</td>\n",
       "      <td>564</td>\n",
       "      <td>5</td>\n",
       "      <td>Chasers (1994)</td>\n",
       "    </tr>\n",
       "    <tr>\n",
       "      <th>2</th>\n",
       "      <td>Dutch_Lee</td>\n",
       "      <td>1460</td>\n",
       "      <td>5</td>\n",
       "      <td>That Darn Cat! (1997)</td>\n",
       "    </tr>\n",
       "    <tr>\n",
       "      <th>3</th>\n",
       "      <td>Dutch_Lee</td>\n",
       "      <td>248</td>\n",
       "      <td>5</td>\n",
       "      <td>Houseguest (1994)</td>\n",
       "    </tr>\n",
       "    <tr>\n",
       "      <th>4</th>\n",
       "      <td>Dutch_Lee</td>\n",
       "      <td>3569</td>\n",
       "      <td>5</td>\n",
       "      <td>Idiots, The (Idioterne) (1998)</td>\n",
       "    </tr>\n",
       "  </tbody>\n",
       "</table>\n",
       "</div>"
      ],
      "text/plain": [
       "     user_id  movie_id  count                           title\n",
       "0  Dutch_Lee         1      5                Toy Story (1995)\n",
       "1  Dutch_Lee       564      5                  Chasers (1994)\n",
       "2  Dutch_Lee      1460      5           That Darn Cat! (1997)\n",
       "3  Dutch_Lee       248      5               Houseguest (1994)\n",
       "4  Dutch_Lee      3569      5  Idiots, The (Idioterne) (1998)"
      ]
     },
     "execution_count": 14,
     "metadata": {},
     "output_type": "execute_result"
    }
   ],
   "source": [
    "my_favorite_id = [1,564, 1460 , 248, 3569]\n",
    "\n",
    "my_favorite_title = []\n",
    "for i in my_favorite_id:\n",
    "    my_favorite_title.extend(list(movies[movies['movie_id'] == i]['title']))\n",
    "\n",
    "my_movielist = pd.DataFrame({'user_id': ['Dutch_Lee']*5, 'movie_id': my_favorite_id, 'count': [5]*5, 'title': my_favorite_title})\n",
    "my_movielist"
   ]
  },
  {
   "cell_type": "markdown",
   "id": "clean-campbell",
   "metadata": {},
   "source": [
    "#### 내가 선호하는 영화를 5가지 골라서 rating에 추가해 줍시다.\n"
   ]
  },
  {
   "cell_type": "code",
   "execution_count": 17,
   "id": "incoming-cinema",
   "metadata": {},
   "outputs": [
    {
     "data": {
      "text/html": [
       "<div>\n",
       "<style scoped>\n",
       "    .dataframe tbody tr th:only-of-type {\n",
       "        vertical-align: middle;\n",
       "    }\n",
       "\n",
       "    .dataframe tbody tr th {\n",
       "        vertical-align: top;\n",
       "    }\n",
       "\n",
       "    .dataframe thead th {\n",
       "        text-align: right;\n",
       "    }\n",
       "</style>\n",
       "<table border=\"1\" class=\"dataframe\">\n",
       "  <thead>\n",
       "    <tr style=\"text-align: right;\">\n",
       "      <th></th>\n",
       "      <th>user_id</th>\n",
       "      <th>movie_id</th>\n",
       "      <th>count</th>\n",
       "      <th>title</th>\n",
       "    </tr>\n",
       "  </thead>\n",
       "  <tbody>\n",
       "    <tr>\n",
       "      <th>836468</th>\n",
       "      <td>6040</td>\n",
       "      <td>2021</td>\n",
       "      <td>3</td>\n",
       "      <td>Dune (1984)</td>\n",
       "    </tr>\n",
       "    <tr>\n",
       "      <th>836469</th>\n",
       "      <td>6040</td>\n",
       "      <td>2022</td>\n",
       "      <td>5</td>\n",
       "      <td>Last Temptation of Christ, The (1988)</td>\n",
       "    </tr>\n",
       "    <tr>\n",
       "      <th>836470</th>\n",
       "      <td>6040</td>\n",
       "      <td>2028</td>\n",
       "      <td>5</td>\n",
       "      <td>Saving Private Ryan (1998)</td>\n",
       "    </tr>\n",
       "    <tr>\n",
       "      <th>836471</th>\n",
       "      <td>6040</td>\n",
       "      <td>1080</td>\n",
       "      <td>4</td>\n",
       "      <td>Monty Python's Life of Brian (1979)</td>\n",
       "    </tr>\n",
       "    <tr>\n",
       "      <th>836472</th>\n",
       "      <td>6040</td>\n",
       "      <td>1089</td>\n",
       "      <td>4</td>\n",
       "      <td>Reservoir Dogs (1992)</td>\n",
       "    </tr>\n",
       "    <tr>\n",
       "      <th>836473</th>\n",
       "      <td>6040</td>\n",
       "      <td>1090</td>\n",
       "      <td>3</td>\n",
       "      <td>Platoon (1986)</td>\n",
       "    </tr>\n",
       "    <tr>\n",
       "      <th>836474</th>\n",
       "      <td>6040</td>\n",
       "      <td>1094</td>\n",
       "      <td>5</td>\n",
       "      <td>Crying Game, The (1992)</td>\n",
       "    </tr>\n",
       "    <tr>\n",
       "      <th>836475</th>\n",
       "      <td>6040</td>\n",
       "      <td>562</td>\n",
       "      <td>5</td>\n",
       "      <td>Welcome to the Dollhouse (1995)</td>\n",
       "    </tr>\n",
       "    <tr>\n",
       "      <th>836476</th>\n",
       "      <td>6040</td>\n",
       "      <td>1096</td>\n",
       "      <td>4</td>\n",
       "      <td>Sophie's Choice (1982)</td>\n",
       "    </tr>\n",
       "    <tr>\n",
       "      <th>836477</th>\n",
       "      <td>6040</td>\n",
       "      <td>1097</td>\n",
       "      <td>4</td>\n",
       "      <td>E.T. the Extra-Terrestrial (1982)</td>\n",
       "    </tr>\n",
       "    <tr>\n",
       "      <th>836478</th>\n",
       "      <td>Dutch_Lee</td>\n",
       "      <td>1</td>\n",
       "      <td>5</td>\n",
       "      <td>Toy Story (1995)</td>\n",
       "    </tr>\n",
       "    <tr>\n",
       "      <th>836479</th>\n",
       "      <td>Dutch_Lee</td>\n",
       "      <td>564</td>\n",
       "      <td>5</td>\n",
       "      <td>Chasers (1994)</td>\n",
       "    </tr>\n",
       "    <tr>\n",
       "      <th>836480</th>\n",
       "      <td>Dutch_Lee</td>\n",
       "      <td>1460</td>\n",
       "      <td>5</td>\n",
       "      <td>That Darn Cat! (1997)</td>\n",
       "    </tr>\n",
       "    <tr>\n",
       "      <th>836481</th>\n",
       "      <td>Dutch_Lee</td>\n",
       "      <td>248</td>\n",
       "      <td>5</td>\n",
       "      <td>Houseguest (1994)</td>\n",
       "    </tr>\n",
       "    <tr>\n",
       "      <th>836482</th>\n",
       "      <td>Dutch_Lee</td>\n",
       "      <td>3569</td>\n",
       "      <td>5</td>\n",
       "      <td>Idiots, The (Idioterne) (1998)</td>\n",
       "    </tr>\n",
       "  </tbody>\n",
       "</table>\n",
       "</div>"
      ],
      "text/plain": [
       "          user_id  movie_id  count                                  title\n",
       "836468       6040      2021      3                            Dune (1984)\n",
       "836469       6040      2022      5  Last Temptation of Christ, The (1988)\n",
       "836470       6040      2028      5             Saving Private Ryan (1998)\n",
       "836471       6040      1080      4    Monty Python's Life of Brian (1979)\n",
       "836472       6040      1089      4                  Reservoir Dogs (1992)\n",
       "836473       6040      1090      3                         Platoon (1986)\n",
       "836474       6040      1094      5                Crying Game, The (1992)\n",
       "836475       6040       562      5        Welcome to the Dollhouse (1995)\n",
       "836476       6040      1096      4                 Sophie's Choice (1982)\n",
       "836477       6040      1097      4      E.T. the Extra-Terrestrial (1982)\n",
       "836478  Dutch_Lee         1      5                       Toy Story (1995)\n",
       "836479  Dutch_Lee       564      5                         Chasers (1994)\n",
       "836480  Dutch_Lee      1460      5                  That Darn Cat! (1997)\n",
       "836481  Dutch_Lee       248      5                      Houseguest (1994)\n",
       "836482  Dutch_Lee      3569      5         Idiots, The (Idioterne) (1998)"
      ]
     },
     "execution_count": 17,
     "metadata": {},
     "output_type": "execute_result"
    }
   ],
   "source": [
    "if not ratings.isin({'user_id':['Dutch_Lee']})['user_id'].any():\n",
    "    ratings = ratings.append(my_movielist, ignore_index=True)\n",
    "\n",
    "ratings.tail(15)"
   ]
  },
  {
   "cell_type": "markdown",
   "id": "civic-departure",
   "metadata": {},
   "source": [
    "# CSR matrix"
   ]
  },
  {
   "cell_type": "markdown",
   "id": "applicable-excellence",
   "metadata": {},
   "source": [
    "user_id, title를 고유 갯수만큼 인덱싱 과정을 거쳐야함."
   ]
  },
  {
   "cell_type": "code",
   "execution_count": 18,
   "id": "composite-rwanda",
   "metadata": {},
   "outputs": [],
   "source": [
    "user_unique = ratings['user_id'].unique()\n",
    "movie_unique = ratings['title'].unique()\n",
    "\n",
    "user_to_idx = {v:k for k,v in enumerate(user_unique)}\n",
    "movie_to_idx = {v:k for k,v in enumerate(movie_unique)}"
   ]
  },
  {
   "cell_type": "code",
   "execution_count": 19,
   "id": "eight-thursday",
   "metadata": {},
   "outputs": [
    {
     "name": "stdout",
     "output_type": "stream",
     "text": [
      "user_id column indexing OK!!\n",
      "title column indexing OK!!\n"
     ]
    },
    {
     "data": {
      "text/html": [
       "<div>\n",
       "<style scoped>\n",
       "    .dataframe tbody tr th:only-of-type {\n",
       "        vertical-align: middle;\n",
       "    }\n",
       "\n",
       "    .dataframe tbody tr th {\n",
       "        vertical-align: top;\n",
       "    }\n",
       "\n",
       "    .dataframe thead th {\n",
       "        text-align: right;\n",
       "    }\n",
       "</style>\n",
       "<table border=\"1\" class=\"dataframe\">\n",
       "  <thead>\n",
       "    <tr style=\"text-align: right;\">\n",
       "      <th></th>\n",
       "      <th>user_id</th>\n",
       "      <th>movie_id</th>\n",
       "      <th>count</th>\n",
       "      <th>title</th>\n",
       "    </tr>\n",
       "  </thead>\n",
       "  <tbody>\n",
       "    <tr>\n",
       "      <th>0</th>\n",
       "      <td>0</td>\n",
       "      <td>1193</td>\n",
       "      <td>5</td>\n",
       "      <td>0</td>\n",
       "    </tr>\n",
       "    <tr>\n",
       "      <th>1</th>\n",
       "      <td>0</td>\n",
       "      <td>661</td>\n",
       "      <td>3</td>\n",
       "      <td>1</td>\n",
       "    </tr>\n",
       "    <tr>\n",
       "      <th>2</th>\n",
       "      <td>0</td>\n",
       "      <td>914</td>\n",
       "      <td>3</td>\n",
       "      <td>2</td>\n",
       "    </tr>\n",
       "    <tr>\n",
       "      <th>3</th>\n",
       "      <td>0</td>\n",
       "      <td>3408</td>\n",
       "      <td>4</td>\n",
       "      <td>3</td>\n",
       "    </tr>\n",
       "    <tr>\n",
       "      <th>4</th>\n",
       "      <td>0</td>\n",
       "      <td>2355</td>\n",
       "      <td>5</td>\n",
       "      <td>4</td>\n",
       "    </tr>\n",
       "    <tr>\n",
       "      <th>...</th>\n",
       "      <td>...</td>\n",
       "      <td>...</td>\n",
       "      <td>...</td>\n",
       "      <td>...</td>\n",
       "    </tr>\n",
       "    <tr>\n",
       "      <th>836478</th>\n",
       "      <td>6039</td>\n",
       "      <td>1</td>\n",
       "      <td>5</td>\n",
       "      <td>40</td>\n",
       "    </tr>\n",
       "    <tr>\n",
       "      <th>836479</th>\n",
       "      <td>6039</td>\n",
       "      <td>564</td>\n",
       "      <td>5</td>\n",
       "      <td>2433</td>\n",
       "    </tr>\n",
       "    <tr>\n",
       "      <th>836480</th>\n",
       "      <td>6039</td>\n",
       "      <td>1460</td>\n",
       "      <td>5</td>\n",
       "      <td>1988</td>\n",
       "    </tr>\n",
       "    <tr>\n",
       "      <th>836481</th>\n",
       "      <td>6039</td>\n",
       "      <td>248</td>\n",
       "      <td>5</td>\n",
       "      <td>546</td>\n",
       "    </tr>\n",
       "    <tr>\n",
       "      <th>836482</th>\n",
       "      <td>6039</td>\n",
       "      <td>3569</td>\n",
       "      <td>5</td>\n",
       "      <td>2822</td>\n",
       "    </tr>\n",
       "  </tbody>\n",
       "</table>\n",
       "<p>836483 rows × 4 columns</p>\n",
       "</div>"
      ],
      "text/plain": [
       "        user_id  movie_id  count  title\n",
       "0             0      1193      5      0\n",
       "1             0       661      3      1\n",
       "2             0       914      3      2\n",
       "3             0      3408      4      3\n",
       "4             0      2355      5      4\n",
       "...         ...       ...    ...    ...\n",
       "836478     6039         1      5     40\n",
       "836479     6039       564      5   2433\n",
       "836480     6039      1460      5   1988\n",
       "836481     6039       248      5    546\n",
       "836482     6039      3569      5   2822\n",
       "\n",
       "[836483 rows x 4 columns]"
      ]
     },
     "execution_count": 19,
     "metadata": {},
     "output_type": "execute_result"
    }
   ],
   "source": [
    "temp_user_data = ratings['user_id'].map(user_to_idx.get).dropna()\n",
    "if len(temp_user_data) == len(ratings):\n",
    "    print('user_id column indexing OK!!')\n",
    "    ratings['user_id'] = temp_user_data\n",
    "else:\n",
    "    print('user_id column indexing Fail!!')\n",
    "\n",
    "temp_movie_data = ratings['title'].map(movie_to_idx.get).dropna()\n",
    "if len(temp_movie_data) == len(ratings):\n",
    "    print('title column indexing OK!!')\n",
    "    ratings['title'] = temp_movie_data\n",
    "else:\n",
    "    print('title column indexing Fail!!')\n",
    "\n",
    "ratings"
   ]
  },
  {
   "cell_type": "markdown",
   "id": "mexican-uncle",
   "metadata": {},
   "source": [
    "### 눈에 보이는 변화\n",
    "\n",
    "1. value of data column - > value of indexing\n",
    "\n",
    "\n",
    "2. user_to_idx.get , movie_to_idx-> 인덱싱 -> user_id, title\n"
   ]
  },
  {
   "cell_type": "markdown",
   "id": "continued-antenna",
   "metadata": {},
   "source": [
    "## 최종적으로 CSR matrix생성"
   ]
  },
  {
   "cell_type": "code",
   "execution_count": 20,
   "id": "sapphire-course",
   "metadata": {},
   "outputs": [
    {
     "data": {
      "text/plain": [
       "<6040x3628 sparse matrix of type '<class 'numpy.longlong'>'\n",
       "\twith 836483 stored elements in Compressed Sparse Row format>"
      ]
     },
     "execution_count": 20,
     "metadata": {},
     "output_type": "execute_result"
    }
   ],
   "source": [
    "from scipy.sparse import csr_matrix\n",
    "\n",
    "num_user = ratings['user_id'].nunique()\n",
    "num_movie = ratings['title'].nunique()\n",
    "\n",
    "csr_data = csr_matrix((ratings['count'], (ratings.user_id, ratings.title)), shape= (num_user, num_movie))\n",
    "csr_data"
   ]
  },
  {
   "cell_type": "markdown",
   "id": "committed-layer",
   "metadata": {},
   "source": [
    "#### 이제 모델 설계  및 훈련을 해보도록하겠습니다."
   ]
  },
  {
   "cell_type": "code",
   "execution_count": 22,
   "id": "liberal-screw",
   "metadata": {},
   "outputs": [],
   "source": [
    "from implicit.als import AlternatingLeastSquares\n",
    "import os\n",
    "import numpy as np\n",
    "\n",
    "os.environ['OPENBLAS_NUM_THREADS']='1'\n",
    "os.environ['KMP_DUPLICATE_LIB_OK']='True'\n",
    "os.environ['MKL_NUM_THREADS']='1'"
   ]
  },
  {
   "cell_type": "markdown",
   "id": "certain-decimal",
   "metadata": {},
   "source": [
    "implicit라이브러리가 권장을 하고 있는 부분입니다."
   ]
  },
  {
   "cell_type": "markdown",
   "id": "economic-anthony",
   "metadata": {},
   "source": [
    "#### 모델 선언"
   ]
  },
  {
   "cell_type": "code",
   "execution_count": 23,
   "id": "closing-doctrine",
   "metadata": {},
   "outputs": [],
   "source": [
    "als_model = AlternatingLeastSquares(factors=100, regularization=0.01, use_gpu=False, iterations=15, dtype=np.float32)"
   ]
  },
  {
   "cell_type": "code",
   "execution_count": 26,
   "id": "false-august",
   "metadata": {},
   "outputs": [
    {
     "data": {
      "text/plain": [
       "<3628x6040 sparse matrix of type '<class 'numpy.longlong'>'\n",
       "\twith 836483 stored elements in Compressed Sparse Column format>"
      ]
     },
     "execution_count": 26,
     "metadata": {},
     "output_type": "execute_result"
    }
   ],
   "source": [
    "csr_data_transpose = csr_data.T\n",
    "csr_data_transpose"
   ]
  },
  {
   "cell_type": "markdown",
   "id": "burning-market",
   "metadata": {},
   "source": [
    "- 행렬의 곱연산입니다.\n",
    "\n",
    "-> 이 모델의 input는 item * user 꼴이기 때문에 행렬입니다. 그래서 Transpose를 이용해야합니다."
   ]
  },
  {
   "cell_type": "markdown",
   "id": "timely-arabic",
   "metadata": {},
   "source": [
    "- 가볍게 모델 훈련하겠습니다."
   ]
  },
  {
   "cell_type": "code",
   "execution_count": 25,
   "id": "nervous-painting",
   "metadata": {},
   "outputs": [
    {
     "data": {
      "application/vnd.jupyter.widget-view+json": {
       "model_id": "93acdfac10664b4990342b46c1202d16",
       "version_major": 2,
       "version_minor": 0
      },
      "text/plain": [
       "  0%|          | 0/15 [00:00<?, ?it/s]"
      ]
     },
     "metadata": {},
     "output_type": "display_data"
    }
   ],
   "source": [
    "als_model.fit(csr_data_transpose)"
   ]
  },
  {
   "cell_type": "markdown",
   "id": "recorded-mambo",
   "metadata": {},
   "source": [
    "#### 과연 훈련이된 모델이 나의 선호도를 어떻게 예측하고 있을까?"
   ]
  },
  {
   "cell_type": "code",
   "execution_count": 28,
   "id": "collect-payday",
   "metadata": {},
   "outputs": [],
   "source": [
    "Dutch_Lee, matrix = user_to_idx['Dutch_Lee'], movie_to_idx['Toy Story (1995)']\n",
    "Dutch_Lee_vector, matrix_vector = als_model.user_factors[Dutch_Lee], als_model.item_factors[matrix]"
   ]
  },
  {
   "cell_type": "markdown",
   "id": "furnished-honey",
   "metadata": {},
   "source": [
    "- model-> 나의 벡터와 영화벡터 구해야한다.\n",
    "\n",
    "- 나의 벡터는 Dutch_Lee\n",
    "\n",
    "- 선호 리스트에 있는 영화의 벡터 또한 계산을 해야 예측을 더 잘할 것 같습니다.\n"
   ]
  },
  {
   "cell_type": "code",
   "execution_count": 29,
   "id": "sticky-contents",
   "metadata": {
    "collapsed": true
   },
   "outputs": [
    {
     "data": {
      "text/plain": [
       "array([ 0.35591626,  0.44720066, -0.23267251,  0.00324943,  0.25925496,\n",
       "        0.20701914,  0.40722203, -0.21954945,  0.2719917 ,  0.16185933,\n",
       "       -0.05805085,  0.04739352, -0.00659016, -0.4108453 , -0.19799592,\n",
       "       -0.04121689,  0.03730699,  0.05318306,  0.09071755, -0.24797344,\n",
       "        0.363445  , -0.06958009,  0.16235138, -0.3310564 , -0.17535883,\n",
       "       -0.26595834,  0.4991857 , -0.06826586, -0.04325735, -0.36860543,\n",
       "       -0.04204901,  0.05586699,  0.05138635, -0.01978759,  0.09934324,\n",
       "       -0.03087387, -0.12970951, -0.11040299,  0.2505709 ,  0.45581296,\n",
       "       -0.4408402 , -0.26851854, -0.25649184, -0.05780477, -0.19693367,\n",
       "        0.48630318,  0.5707374 , -0.17465012, -0.11844178,  0.10957062,\n",
       "        0.31606206,  0.06888602, -0.37637722, -0.25124514, -0.04869989,\n",
       "        0.16739932, -0.1560319 ,  0.6068209 ,  0.41115394,  0.7091253 ,\n",
       "        0.0926566 ,  0.15251854, -0.08037585,  0.11589687, -0.5161434 ,\n",
       "       -0.2918802 , -0.10723978,  0.16632503,  0.48052722,  0.29241326,\n",
       "       -0.13236038, -0.15387447,  0.12519446, -0.10529745,  0.25399297,\n",
       "       -0.11318233,  0.7529684 ,  0.16151501, -0.35090753,  0.26410884,\n",
       "       -0.4585822 , -0.01939494, -0.12443324,  0.26265022, -0.5209114 ,\n",
       "        0.09243058, -0.7989305 , -0.03859558, -0.3620402 , -0.5091254 ,\n",
       "        0.45668983, -0.0309727 , -0.32816935,  0.18061437,  0.15013747,\n",
       "        0.28776386, -0.44545317, -0.3881885 , -0.07590619,  0.3341012 ],\n",
       "      dtype=float32)"
      ]
     },
     "execution_count": 29,
     "metadata": {},
     "output_type": "execute_result"
    }
   ],
   "source": [
    "Dutch_Lee_vector"
   ]
  },
  {
   "cell_type": "code",
   "execution_count": 30,
   "id": "canadian-adaptation",
   "metadata": {
    "collapsed": true
   },
   "outputs": [
    {
     "data": {
      "text/plain": [
       "array([ 1.00669051e-02,  1.85698252e-02, -7.56696146e-03, -5.34281880e-03,\n",
       "        3.02289929e-02,  2.09979508e-02,  2.17418261e-02, -1.49539588e-02,\n",
       "        2.97710095e-02,  3.10908798e-02, -1.43186832e-02, -4.60338267e-03,\n",
       "       -6.51683938e-03, -1.73139051e-02,  1.35334339e-02, -4.80277883e-03,\n",
       "        1.38146402e-02,  1.00051537e-02, -2.90562143e-03, -2.56951079e-02,\n",
       "        1.78354532e-02,  5.91290509e-03,  2.82626618e-02, -6.01043040e-03,\n",
       "       -1.41535485e-02,  2.79107154e-03,  3.89596894e-02, -3.56738851e-03,\n",
       "        2.34116614e-02, -2.34272648e-02,  2.01734826e-02,  2.13776976e-02,\n",
       "       -4.54247747e-05,  1.24477025e-03,  1.31869381e-02,  1.06334984e-02,\n",
       "        1.73593499e-02, -1.67543013e-02, -3.24992277e-03,  1.83025878e-02,\n",
       "       -1.79383811e-02, -5.57743246e-04, -4.06714575e-03, -1.97164379e-02,\n",
       "       -1.28886243e-03,  3.14489119e-02,  3.66430283e-02,  1.48076965e-02,\n",
       "        9.74513032e-03, -8.62083025e-03,  3.19467448e-02, -1.44682061e-02,\n",
       "        1.68050046e-03, -3.36019485e-03, -1.57014076e-02,  2.97249341e-03,\n",
       "        7.13690976e-03,  2.97896490e-02,  3.69627289e-02,  3.78682427e-02,\n",
       "        5.73757151e-03,  3.83366062e-03, -1.06963711e-02,  1.47911925e-02,\n",
       "       -4.71155345e-02, -1.47184571e-02,  4.69862920e-04, -1.52280799e-03,\n",
       "        3.77243832e-02,  2.89115105e-02,  1.43516473e-02, -1.02285808e-02,\n",
       "        3.47981714e-02, -1.46792093e-02,  1.47950696e-02, -9.71231423e-03,\n",
       "        4.86020669e-02,  2.02396289e-02, -1.29190451e-02,  2.31820289e-02,\n",
       "       -2.04112530e-02,  1.09205591e-02, -9.52514820e-03,  1.49346935e-02,\n",
       "       -1.12659074e-02,  1.46678910e-02, -2.19027884e-02,  1.04266882e-03,\n",
       "       -7.10280379e-03, -2.51784287e-02,  2.28406470e-02,  6.87952212e-04,\n",
       "       -8.94407462e-03, -3.14562791e-03,  2.01013051e-02,  1.76349725e-03,\n",
       "       -2.64160130e-02, -1.14170667e-02,  6.87656505e-03,  3.89396995e-02],\n",
       "      dtype=float32)"
      ]
     },
     "execution_count": 30,
     "metadata": {},
     "output_type": "execute_result"
    }
   ],
   "source": [
    "matrix_vector"
   ]
  },
  {
   "cell_type": "markdown",
   "id": "advance-bundle",
   "metadata": {},
   "source": [
    "내적을 하면 값이 나올텐데요 그 값은 아마 제 선호 리스트에 있기에 클거라고 생각합니다."
   ]
  },
  {
   "cell_type": "code",
   "execution_count": 31,
   "id": "floral-championship",
   "metadata": {},
   "outputs": [
    {
     "data": {
      "text/plain": [
       "0.44411603"
      ]
     },
     "execution_count": 31,
     "metadata": {},
     "output_type": "execute_result"
    }
   ],
   "source": [
    "np.dot(Dutch_Lee_vector, matrix_vector)"
   ]
  },
  {
   "cell_type": "markdown",
   "id": "rough-roberts",
   "metadata": {},
   "source": [
    "그렇게 큰 숫자가 나온 것 같진 않지만 한 번에 제 리스트에 없는 영화와 비교해보아서 이 수치가 유의미한지에 대해서 판단해보겠습니다."
   ]
  },
  {
   "cell_type": "code",
   "execution_count": 32,
   "id": "physical-sleeping",
   "metadata": {},
   "outputs": [
    {
     "data": {
      "text/plain": [
       "0.012403166"
      ]
     },
     "execution_count": 32,
     "metadata": {},
     "output_type": "execute_result"
    }
   ],
   "source": [
    "Superstar = movie_to_idx['Superstar (1999)']\n",
    "Superstar_vector = als_model.item_factors[Superstar]\n",
    "np.dot(Dutch_Lee_vector, Superstar_vector)"
   ]
  },
  {
   "cell_type": "markdown",
   "id": "rocky-movie",
   "metadata": {},
   "source": [
    "굉장히 낮은 값이 출력이 되었습니다"
   ]
  },
  {
   "cell_type": "markdown",
   "id": "broadband-narrow",
   "metadata": {},
   "source": [
    "#### 미니 회고\n",
    "\n",
    "제 선호 영화인 0.44 와 선호하지 않는 영화인 0.012의 내적값의 차이를 보니 제가 만든 모델이 예측을 못하지는 않는 것 같습니다."
   ]
  },
  {
   "cell_type": "markdown",
   "id": "private-jacksonville",
   "metadata": {},
   "source": [
    "### 이번에는 이 모델이 제가 좋아하는 영화와 비슷한 영화를 잘 추천해주는지 보겠습니다\n",
    "\n",
    "- 마치 저희가 유튜브 알고리즘을 만드는 것과 같은거죠"
   ]
  },
  {
   "cell_type": "markdown",
   "id": "average-neighborhood",
   "metadata": {},
   "source": [
    "좋아하는 영화와 비슷한 영화를 10개 정도만 출력해보겠습니다."
   ]
  },
  {
   "cell_type": "code",
   "execution_count": 33,
   "id": "looking-editor",
   "metadata": {
    "scrolled": true
   },
   "outputs": [
    {
     "data": {
      "text/plain": [
       "[(38, 0.9999998),\n",
       " (233, 0.4969659),\n",
       " (121, 0.45671275),\n",
       " (243, 0.45243764),\n",
       " (170, 0.4171324),\n",
       " (832, 0.40359575),\n",
       " (273, 0.39266032),\n",
       " (220, 0.39196035),\n",
       " (81, 0.3916542),\n",
       " (1938, 0.3794605)]"
      ]
     },
     "execution_count": 33,
     "metadata": {},
     "output_type": "execute_result"
    }
   ],
   "source": [
    "favorite_movie = 'Sixth Sense, The (1999)'\n",
    "movie_id = movie_to_idx[favorite_movie]\n",
    "similar_movie = als_model.similar_items(movie_id, N=10)\n",
    "similar_movie\n"
   ]
  },
  {
   "cell_type": "code",
   "execution_count": 34,
   "id": "innocent-scottish",
   "metadata": {},
   "outputs": [
    {
     "data": {
      "text/plain": [
       "['Sixth Sense, The (1999)',\n",
       " 'Usual Suspects, The (1995)',\n",
       " 'Silence of the Lambs, The (1991)',\n",
       " 'Ghostbusters (1984)',\n",
       " 'Being John Malkovich (1999)',\n",
       " 'Jakob the Liar (1999)',\n",
       " 'Fight Club (1999)',\n",
       " 'Seven (Se7en) (1995)',\n",
       " 'Green Mile, The (1999)',\n",
       " 'Superstar (1999)']"
      ]
     },
     "execution_count": 34,
     "metadata": {},
     "output_type": "execute_result"
    }
   ],
   "source": [
    "idx_to_movie = {v:k for k,v in movie_to_idx.items()}\n",
    "[idx_to_movie[i[0]] for i in similar_movie]"
   ]
  },
  {
   "cell_type": "markdown",
   "id": "lesbian-definition",
   "metadata": {},
   "source": [
    "idex를 이용하여 무슨 영화가 추천되었는지 볼 수 있도록 했습니다. "
   ]
  },
  {
   "cell_type": "markdown",
   "id": "heated-assignment",
   "metadata": {},
   "source": [
    "#### 보고 싶은 영화가 매일 다를 수 있으니 함수화를 통해서 제목을 넣으면 상위 10개의 유사 영화가 나올 수 있도록 설정해보겠습니다."
   ]
  },
  {
   "cell_type": "code",
   "execution_count": 35,
   "id": "sexual-prefix",
   "metadata": {},
   "outputs": [],
   "source": [
    "def get_similar_movie(movie_title: str):\n",
    "    movie_id = movie_to_idx[movie_title]\n",
    "    similar_movie = als_model.similar_items(movie_id, N=10)\n",
    "    similar_movie = [idx_to_movie[i[0]] for i in similar_movie]\n",
    "    return similar_movie"
   ]
  },
  {
   "cell_type": "code",
   "execution_count": 36,
   "id": "annual-judge",
   "metadata": {},
   "outputs": [
    {
     "data": {
      "text/plain": [
       "['Chasers (1994)',\n",
       " 'Bats (1999)',\n",
       " 'Chill Factor (1999)',\n",
       " 'Stay Tuned (1992)',\n",
       " 'Trial and Error (1997)',\n",
       " 'Firewalker (1986)',\n",
       " 'Meatballs 4 (1992)',\n",
       " 'Terminal Velocity (1994)',\n",
       " \"National Lampoon's Senior Trip (1995)\",\n",
       " 'Almost Heroes (1998)']"
      ]
     },
     "execution_count": 36,
     "metadata": {},
     "output_type": "execute_result"
    }
   ],
   "source": [
    "\n",
    "get_similar_movie('Chasers (1994)')"
   ]
  },
  {
   "cell_type": "code",
   "execution_count": 37,
   "id": "reflected-david",
   "metadata": {},
   "outputs": [
    {
     "data": {
      "text/plain": [
       "['That Darn Cat! (1997)',\n",
       " 'Meet the Deedles (1998)',\n",
       " 'That Darn Cat! (1965)',\n",
       " 'Dunston Checks In (1996)',\n",
       " 'Gnome-Mobile, The (1967)',\n",
       " \"We're Back! A Dinosaur's Story (1993)\",\n",
       " \"Blackbeard's Ghost (1968)\",\n",
       " 'Slappy and the Stinkers (1998)',\n",
       " 'Harriet the Spy (1996)',\n",
       " 'Flipper (1996)']"
      ]
     },
     "execution_count": 37,
     "metadata": {},
     "output_type": "execute_result"
    }
   ],
   "source": [
    "get_similar_movie('That Darn Cat! (1997)')"
   ]
  },
  {
   "cell_type": "markdown",
   "id": "stopped-above",
   "metadata": {},
   "source": [
    "이렇게 하니 진짜 유튜브 알고리즘이 된 것 같아 신나네요"
   ]
  },
  {
   "cell_type": "markdown",
   "id": "widespread-posting",
   "metadata": {},
   "source": [
    "## 자 이제 제가 좋아할 만한!! 영화를 추천해주는 해보겠습니다."
   ]
  },
  {
   "cell_type": "markdown",
   "id": "modified-constraint",
   "metadata": {},
   "source": [
    "먼저, 선호 영화와 비슷한 영화를 index값으로 반환해야합니다."
   ]
  },
  {
   "cell_type": "code",
   "execution_count": 38,
   "id": "worst-citizenship",
   "metadata": {},
   "outputs": [
    {
     "data": {
      "text/plain": [
       "[(50, 0.45874298),\n",
       " (4, 0.3025838),\n",
       " (322, 0.2834074),\n",
       " (33, 0.18303065),\n",
       " (110, 0.15148993),\n",
       " (474, 0.13694194),\n",
       " (10, 0.13673043),\n",
       " (160, 0.12566686),\n",
       " (330, 0.121911995),\n",
       " (255, 0.117742315),\n",
       " (284, 0.11289194),\n",
       " (476, 0.112036474),\n",
       " (475, 0.10707742),\n",
       " (1369, 0.0979512),\n",
       " (545, 0.09613222)]"
      ]
     },
     "execution_count": 38,
     "metadata": {},
     "output_type": "execute_result"
    }
   ],
   "source": [
    "\n",
    "user = user_to_idx['Dutch_Lee']\n",
    "\n",
    "movie_recommended = als_model.recommend(user, csr_data, N=15, filter_already_liked_items=True)\n",
    "movie_recommended"
   ]
  },
  {
   "cell_type": "markdown",
   "id": "designed-indonesian",
   "metadata": {},
   "source": [
    "인덱스 값을 바탕으로 선호 영화제목 출력"
   ]
  },
  {
   "cell_type": "code",
   "execution_count": 39,
   "id": "postal-sword",
   "metadata": {},
   "outputs": [
    {
     "data": {
      "text/plain": [
       "['Toy Story 2 (1999)',\n",
       " \"Bug's Life, A (1998)\",\n",
       " 'Babe (1995)',\n",
       " 'Aladdin (1992)',\n",
       " 'Groundhog Day (1993)',\n",
       " 'Chicken Run (2000)',\n",
       " 'Beauty and the Beast (1991)',\n",
       " 'Forrest Gump (1994)',\n",
       " 'Lion King, The (1994)',\n",
       " \"There's Something About Mary (1998)\",\n",
       " 'Nightmare Before Christmas, The (1993)',\n",
       " 'Wrong Trousers, The (1993)',\n",
       " 'My Cousin Vinny (1992)',\n",
       " '101 Dalmatians (1996)',\n",
       " 'Santa Clause, The (1994)']"
      ]
     },
     "execution_count": 39,
     "metadata": {},
     "output_type": "execute_result"
    }
   ],
   "source": [
    "[idx_to_movie[i[0]] for i in movie_recommended]"
   ]
  },
  {
   "cell_type": "markdown",
   "id": "christian-advance",
   "metadata": {},
   "source": [
    "위의 매커니즘이 어떻게 제게 영화를 추천했을 때 도움을 주는지 확인해보겠습니다."
   ]
  },
  {
   "cell_type": "code",
   "execution_count": 40,
   "id": "reverse-television",
   "metadata": {},
   "outputs": [
    {
     "data": {
      "text/plain": [
       "[('Toy Story (1995)', 0.2849558996008382),\n",
       " ('Idiots, The (Idioterne) (1998)', 0.013490459854576193),\n",
       " ('Chasers (1994)', 0.005615083017542788),\n",
       " ('That Darn Cat! (1997)', 0.004001190649482695),\n",
       " ('Houseguest (1994)', -0.011281688055715751)]"
      ]
     },
     "execution_count": 40,
     "metadata": {},
     "output_type": "execute_result"
    }
   ],
   "source": [
    "recommended = movie_to_idx[\"Bug's Life, A (1998)\"]\n",
    "explain = als_model.explain(user, csr_data, itemid=recommended)\n",
    "\n",
    "[(idx_to_movie[i[0]], i[1]) for i in explain[1]]"
   ]
  },
  {
   "cell_type": "markdown",
   "id": "medieval-method",
   "metadata": {},
   "source": [
    "영화 \"Bug's Life, A (1998)\" 를 통해서 'Toy Story (1995)'가 0.2849라는 수치가 나온 것으로 보아 많은 도움을 준 것 같습니다. \n",
    "\n",
    "그리고 신기한 것은 저는 Toy Story영화를 좋아합니다.  신기합니다!"
   ]
  },
  {
   "cell_type": "markdown",
   "id": "soviet-imagination",
   "metadata": {},
   "source": [
    "# 프로젝트 회고!!\n",
    "\n",
    "- 추천시스템은 이미 유튜브 알고리즘으로 인해서 익히 들었지만 실상 제대로 아는 것은 없었습니다. 허나 이번 익스를 통해서 어떻게 추천을 하고 우리가 그 추천에 빠져 시간을 사용하여 스트레스를 풀고 휴식을 하거나 아니면 시간 낭비가 되는 이유 또한 알게 되어서 재미난 경험이었습니다. 이 시스템은 점점 OTT플랫폼을 이용하는 회사들이라면 더욱 발전시키고 공을 들여야만 이용자들이 원하고 회사에게도 경제적 이득을 줄 것 같습니다.!\n",
    "\n",
    "\n",
    "\n",
    "\n",
    "- 익스의 경험치가 쌓이다보니 이제 데이터를 먼저 보고 무엇이 필요하고 무엇이 불필요한지 구분이 되는 것 같아서 점점 기분이 좋습니다. 무튼 이 경험을 통해서 평점과 제목이 나눠진 데이터를 dataframe을 통해서 하나로 합쳤습니다. 그러면 유사성을 보기 편할 것 같아서요!\n",
    "\n",
    "\n",
    "\n",
    "\n",
    "- 익스의 결과를 보면, 선호 영화는 내적 값이 0.44로 높은 값을 가지지만 선호하지 영화에서는 값이 0.012로 나타나는 것으로 보아 모델이 학습이 잘 되었고 선호도 반영을 잘한 것 같습니다.\n",
    "\n",
    "\n",
    "\n",
    "\n",
    "- 그리고 신기하게 좋아하는 영화를 추천해줄 때 실제로 제가 선호하는 영화의 유사한 장르를 바탕으로 추천을 해준 것 같아서 너무 신기했고 신뢰도가 쌓였습니다."
   ]
  },
  {
   "cell_type": "code",
   "execution_count": null,
   "id": "strong-norman",
   "metadata": {},
   "outputs": [],
   "source": []
  }
 ],
 "metadata": {
  "kernelspec": {
   "display_name": "Python 3",
   "language": "python",
   "name": "python3"
  },
  "language_info": {
   "codemirror_mode": {
    "name": "ipython",
    "version": 3
   },
   "file_extension": ".py",
   "mimetype": "text/x-python",
   "name": "python",
   "nbconvert_exporter": "python",
   "pygments_lexer": "ipython3",
   "version": "3.7.9"
  }
 },
 "nbformat": 4,
 "nbformat_minor": 5
}
