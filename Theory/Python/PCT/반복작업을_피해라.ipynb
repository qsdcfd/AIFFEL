{
  "nbformat": 4,
  "nbformat_minor": 0,
  "metadata": {
    "colab": {
      "name": "반복작업을 피해라",
      "provenance": [],
      "authorship_tag": "ABX9TyNaBDeVtphHCMHFF5xMSmRx"
    },
    "kernelspec": {
      "name": "python3",
      "display_name": "Python 3"
    },
    "language_info": {
      "name": "python"
    }
  },
  "cells": [
    {
      "cell_type": "markdown",
      "source": [
        "## 대입식을  사용해 컴프리헨션 안에서 반복 작업을 피해라"
      ],
      "metadata": {
        "id": "CiM59RIfu07g"
      }
    },
    {
      "cell_type": "markdown",
      "source": [
        "**고객의 요청이 재고 수량을 넘지 않고 배송에 필요한 최소 수량**\n",
        "\n",
        "\n",
        "- rough code\n",
        "\n",
        "```\n",
        "stock = {\n",
        "    '못':125,\n",
        "    '나사못':35,\n",
        "    '나비너트':8,\n",
        "    '와서':24,\n",
        "}\n",
        "\n",
        "order = ['나사못', '나비너트', '클립']\n",
        "\n",
        "def get_batches(count, size):\n",
        "    return count // size\n",
        "\n",
        "result = {}\n",
        "for name in order:\n",
        "    count = stock.get(name,0)\n",
        "    batches = get_batches(count, 8)\n",
        "    if batches:\n",
        "        result[name] = batches\n",
        "\n",
        "print(result) # {'나사못':4, '나비너트':1}\n",
        "```\n",
        "\n",
        "<br>\n",
        "\n",
        "- 컴프리헨션 사용하여 루프의 로직 간결화\n",
        "\n",
        "   - 불필요한 시각적인 잡음이 들어가서 가독성 나쁨\n",
        "   - 항상 똑같이 변경해야 하므로 실수할 가능성 높다\n",
        "\n",
        "```\n",
        "found = {name: get_batches(stock.get(name,0),8)\n",
        "         for name in order\n",
        "         if get_batches(stock.get(name,0),8)}\n",
        "print(found)\n",
        "\n",
        "#{'나사못':4, '나비너트':1}\n",
        "```\n",
        "\n",
        "<br>\n",
        "\n",
        "- 왈러스 연산자(:=)\n",
        "\n",
        "```\n",
        "found = ((name, batches) for name in order\n",
        "         if (batches := get_batches(stock.get(name,0), 8)))\n",
        "print(next(found))\n",
        "print(next(found))\n",
        "\n",
        "#결과\n",
        "('나사못',4)\n",
        "('나비너트',1)\n",
        "```\n",
        "\n",
        "\n",
        "\n"
      ],
      "metadata": {
        "id": "zcWFnBc7vJhW"
      }
    },
    {
      "cell_type": "markdown",
      "source": [
        ""
      ],
      "metadata": {
        "id": "jBgijq9j0rkP"
      }
    },
    {
      "cell_type": "code",
      "source": [
        ""
      ],
      "metadata": {
        "id": "RdqMPdQR0q6R"
      },
      "execution_count": null,
      "outputs": []
    }
  ]
}